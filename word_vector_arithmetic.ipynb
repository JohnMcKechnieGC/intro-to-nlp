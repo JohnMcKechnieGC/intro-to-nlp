{
 "cells": [
  {
   "cell_type": "markdown",
   "metadata": {},
   "source": [
    "# Word Vector Arithmetic\n",
    "In this demo, we recreate the well-known \"king - man + woman = queen\" example of word vector arithmetic."
   ]
  },
  {
   "cell_type": "code",
   "execution_count": 1,
   "metadata": {},
   "outputs": [],
   "source": [
    "import gensim.downloader as api"
   ]
  },
  {
   "cell_type": "markdown",
   "metadata": {},
   "source": [
    "Load the Google News pre-trained word vectors. This model has 300-dimensional vectors for 3 million words and phrases."
   ]
  },
  {
   "cell_type": "code",
   "execution_count": 2,
   "metadata": {},
   "outputs": [],
   "source": [
    "word_vectors = api.load('word2vec-google-news-300')"
   ]
  },
  {
   "cell_type": "markdown",
   "metadata": {},
   "source": [
    "Compute the vector for the analogy by adding the vectors of 'king' and 'woman' and subtracting the vector of 'man'. The most_similar method then finds the words whose vectors are closest to this computed vector."
   ]
  },
  {
   "cell_type": "code",
   "execution_count": 3,
   "metadata": {},
   "outputs": [],
   "source": [
    "result = word_vectors.most_similar(\n",
    "    positive=['king', 'woman'],\n",
    "    negative=['man'])"
   ]
  },
  {
   "cell_type": "markdown",
   "metadata": {},
   "source": [
    "Show the top words similar to the computed vector"
   ]
  },
  {
   "cell_type": "code",
   "execution_count": 4,
   "metadata": {},
   "outputs": [
    {
     "name": "stdout",
     "output_type": "stream",
     "text": [
      "king - man + woman = ?\n",
      "queen: 0.7118\n",
      "monarch: 0.6190\n",
      "princess: 0.5902\n",
      "crown_prince: 0.5499\n",
      "prince: 0.5377\n",
      "kings: 0.5237\n",
      "Queen_Consort: 0.5236\n",
      "queens: 0.5181\n",
      "sultan: 0.5099\n",
      "monarchy: 0.5087\n"
     ]
    }
   ],
   "source": [
    "print(\"king - man + woman = ?\")\n",
    "for word, similarity in result:\n",
    "    print(f\"{word}: {similarity:.4f}\")"
   ]
  },
  {
   "cell_type": "markdown",
   "metadata": {},
   "source": [
    "## Bias\n",
    "Word vectors, \"perhaps unsurprisingly, capture the biases inherent in the language data that produces them.\" - Artificial Intelligence: A Guide for Thinking Humans, Melanie Mitchell, Chapter 11."
   ]
  },
  {
   "cell_type": "code",
   "execution_count": 5,
   "metadata": {},
   "outputs": [],
   "source": [
    "result = word_vectors.most_similar(\n",
    "    positive=['computer_programmer', 'woman'],\n",
    "    negative=['man'])"
   ]
  },
  {
   "cell_type": "code",
   "execution_count": 6,
   "metadata": {},
   "outputs": [
    {
     "name": "stdout",
     "output_type": "stream",
     "text": [
      "computer programmer - man + woman = ?\n",
      "homemaker: 0.5627\n",
      "housewife: 0.5105\n",
      "graphic_designer: 0.5052\n",
      "schoolteacher: 0.4979\n",
      "businesswoman: 0.4935\n",
      "paralegal: 0.4926\n",
      "registered_nurse: 0.4908\n",
      "saleswoman: 0.4882\n",
      "electrical_engineer: 0.4798\n",
      "mechanical_engineer: 0.4755\n"
     ]
    }
   ],
   "source": [
    "print(\"computer programmer - man + woman = ?\")\n",
    "for word, similarity in result:\n",
    "    print(f\"{word}: {similarity:.4f}\")"
   ]
  },
  {
   "cell_type": "markdown",
   "metadata": {},
   "source": [
    "## Challenge\n",
    "Vector Intuition: Having seen the \"King - Man + Woman = Queen\" demonstration and the example of bias, brainstorm other analogies or relationships that can be discovered using word vectors."
   ]
  }
 ],
 "metadata": {
  "kernelspec": {
   "display_name": "AI-ML-Bootcamp-24-25",
   "language": "python",
   "name": "python3"
  },
  "language_info": {
   "codemirror_mode": {
    "name": "ipython",
    "version": 3
   },
   "file_extension": ".py",
   "mimetype": "text/x-python",
   "name": "python",
   "nbconvert_exporter": "python",
   "pygments_lexer": "ipython3",
   "version": "3.12.4"
  }
 },
 "nbformat": 4,
 "nbformat_minor": 2
}
