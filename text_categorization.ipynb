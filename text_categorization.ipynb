{
 "cells": [
  {
   "cell_type": "markdown",
   "metadata": {},
   "source": [
    "# Text Categorization Demo\n",
    "As well as Scikit-Learn, this demo uses NLTK, one of the main modules for working with language data.\n",
    "\n",
    "You can learn more about NLTK here: https://www.nltk.org/"
   ]
  },
  {
   "cell_type": "code",
   "execution_count": 1,
   "metadata": {},
   "outputs": [],
   "source": [
    "import nltk"
   ]
  },
  {
   "cell_type": "markdown",
   "metadata": {},
   "source": [
    "First we download the necessary NLTK data: the Reuters collection of news articles and NLTK's list of stopwords, i.e. words like 'the' and 'of' that don't, by themselves, convey much about what documents are about. "
   ]
  },
  {
   "cell_type": "code",
   "execution_count": 2,
   "metadata": {},
   "outputs": [
    {
     "name": "stderr",
     "output_type": "stream",
     "text": [
      "[nltk_data] Downloading package reuters to\n",
      "[nltk_data]     C:\\Users\\jmmck\\AppData\\Roaming\\nltk_data...\n",
      "[nltk_data]   Package reuters is already up-to-date!\n",
      "[nltk_data] Downloading package stopwords to\n",
      "[nltk_data]     C:\\Users\\jmmck\\AppData\\Roaming\\nltk_data...\n",
      "[nltk_data]   Package stopwords is already up-to-date!\n"
     ]
    },
    {
     "data": {
      "text/plain": [
       "True"
      ]
     },
     "execution_count": 2,
     "metadata": {},
     "output_type": "execute_result"
    }
   ],
   "source": [
    "nltk.download('reuters')\n",
    "nltk.download('stopwords')"
   ]
  },
  {
   "cell_type": "markdown",
   "metadata": {},
   "source": [
    "Having made sure that the data is downloaded, we can go ahead and import the reuters and stopwords objects that will make it easier to work with them."
   ]
  },
  {
   "cell_type": "code",
   "execution_count": 3,
   "metadata": {},
   "outputs": [],
   "source": [
    "from nltk.corpus import reuters\n",
    "from nltk.corpus import stopwords"
   ]
  },
  {
   "cell_type": "markdown",
   "metadata": {},
   "source": [
    "Load Reuters categories and file IDs"
   ]
  },
  {
   "cell_type": "code",
   "execution_count": 4,
   "metadata": {},
   "outputs": [],
   "source": [
    "categories = reuters.categories()\n",
    "fileids = reuters.fileids()"
   ]
  },
  {
   "cell_type": "code",
   "execution_count": 5,
   "metadata": {},
   "outputs": [
    {
     "name": "stdout",
     "output_type": "stream",
     "text": [
      "['acq', 'alum', 'barley', 'bop', 'carcass', 'castor-oil', 'cocoa', 'coconut', 'coconut-oil', 'coffee']\n"
     ]
    },
    {
     "data": {
      "text/plain": [
       "90"
      ]
     },
     "execution_count": 5,
     "metadata": {},
     "output_type": "execute_result"
    }
   ],
   "source": [
    "print(categories[:10])  # Show the first ten categories\n",
    "len(categories)"
   ]
  },
  {
   "cell_type": "code",
   "execution_count": 6,
   "metadata": {},
   "outputs": [
    {
     "name": "stdout",
     "output_type": "stream",
     "text": [
      "['test/14826', 'test/14828', 'test/14829', 'test/14832', 'test/14833']\n"
     ]
    }
   ],
   "source": [
    "print(fileids[:5])  # Show the first 5 file ids"
   ]
  },
  {
   "cell_type": "markdown",
   "metadata": {},
   "source": [
    "How many documents do we have?"
   ]
  },
  {
   "cell_type": "code",
   "execution_count": 7,
   "metadata": {},
   "outputs": [
    {
     "data": {
      "text/plain": [
       "10788"
      ]
     },
     "execution_count": 7,
     "metadata": {},
     "output_type": "execute_result"
    }
   ],
   "source": [
    "len(fileids)"
   ]
  },
  {
   "cell_type": "markdown",
   "metadata": {},
   "source": [
    "Show the raw text of the first file."
   ]
  },
  {
   "cell_type": "code",
   "execution_count": 8,
   "metadata": {},
   "outputs": [
    {
     "data": {
      "text/plain": [
       "'ASIAN EXPORTERS FEAR DAMAGE FROM U.S.-JAPAN RIFT\\n  Mounting trade friction between the\\n  U.S. And Japan has raised fears among many of Asia\\'s exporting\\n  nations that the row could inflict far-reaching economic\\n  damage, businessmen and officials said.\\n      They told Reuter correspondents in Asian capitals a U.S.\\n  Move against Japan might boost protectionist sentiment in the\\n  U.S. And lead to curbs on American imports of their products.\\n      But some exporters said that while the conflict would hurt\\n  them in the long-run, in the short-term Tokyo\\'s loss might be\\n  their gain.\\n      The U.S. Has said it will impose 300 mln dlrs of tariffs on\\n  imports of Japanese electronics goods on April 17, in\\n  retaliation for Japan\\'s alleged failure to stick to a pact not\\n  to sell semiconductors on world markets at below cost.\\n      Unofficial Japanese estimates put the impact of the tariffs\\n  at 10 billion dlrs and spokesmen for major electronics firms\\n  said they would virtually halt exports of products hit by the\\n  new taxes.\\n      \"We wouldn\\'t be able to do business,\" said a spokesman for\\n  leading Japanese electronics firm Matsushita Electric\\n  Industrial Co Ltd &lt;MC.T>.\\n      \"If the tariffs remain in place for any length of time\\n  beyond a few months it will mean the complete erosion of\\n  exports (of goods subject to tariffs) to the U.S.,\" said Tom\\n  Murtha, a stock analyst at the Tokyo office of broker &lt;James\\n  Capel and Co>.\\n      In Taiwan, businessmen and officials are also worried.\\n      \"We are aware of the seriousness of the U.S. Threat against\\n  Japan because it serves as a warning to us,\" said a senior\\n  Taiwanese trade official who asked not to be named.\\n      Taiwan had a trade trade surplus of 15.6 billion dlrs last\\n  year, 95 pct of it with the U.S.\\n      The surplus helped swell Taiwan\\'s foreign exchange reserves\\n  to 53 billion dlrs, among the world\\'s largest.\\n      \"We must quickly open our markets, remove trade barriers and\\n  cut import tariffs to allow imports of U.S. Products, if we\\n  want to defuse problems from possible U.S. Retaliation,\" said\\n  Paul Sheen, chairman of textile exporters &lt;Taiwan Safe Group>.\\n      A senior official of South Korea\\'s trade promotion\\n  association said the trade dispute between the U.S. And Japan\\n  might also lead to pressure on South Korea, whose chief exports\\n  are similar to those of Japan.\\n      Last year South Korea had a trade surplus of 7.1 billion\\n  dlrs with the U.S., Up from 4.9 billion dlrs in 1985.\\n      In Malaysia, trade officers and businessmen said tough\\n  curbs against Japan might allow hard-hit producers of\\n  semiconductors in third countries to expand their sales to the\\n  U.S.\\n      In Hong Kong, where newspapers have alleged Japan has been\\n  selling below-cost semiconductors, some electronics\\n  manufacturers share that view. But other businessmen said such\\n  a short-term commercial advantage would be outweighed by\\n  further U.S. Pressure to block imports.\\n      \"That is a very short-term view,\" said Lawrence Mills,\\n  director-general of the Federation of Hong Kong Industry.\\n      \"If the whole purpose is to prevent imports, one day it will\\n  be extended to other sources. Much more serious for Hong Kong\\n  is the disadvantage of action restraining trade,\" he said.\\n      The U.S. Last year was Hong Kong\\'s biggest export market,\\n  accounting for over 30 pct of domestically produced exports.\\n      The Australian government is awaiting the outcome of trade\\n  talks between the U.S. And Japan with interest and concern,\\n  Industry Minister John Button said in Canberra last Friday.\\n      \"This kind of deterioration in trade relations between two\\n  countries which are major trading partners of ours is a very\\n  serious matter,\" Button said.\\n      He said Australia\\'s concerns centred on coal and beef,\\n  Australia\\'s two largest exports to Japan and also significant\\n  U.S. Exports to that country.\\n      Meanwhile U.S.-Japanese diplomatic manoeuvres to solve the\\n  trade stand-off continue.\\n      Japan\\'s ruling Liberal Democratic Party yesterday outlined\\n  a package of economic measures to boost the Japanese economy.\\n      The measures proposed include a large supplementary budget\\n  and record public works spending in the first half of the\\n  financial year.\\n      They also call for stepped-up spending as an emergency\\n  measure to stimulate the economy despite Prime Minister\\n  Yasuhiro Nakasone\\'s avowed fiscal reform program.\\n      Deputy U.S. Trade Representative Michael Smith and Makoto\\n  Kuroda, Japan\\'s deputy minister of International Trade and\\n  Industry (MITI), are due to meet in Washington this week in an\\n  effort to end the dispute.\\n  \\n\\n'"
      ]
     },
     "execution_count": 8,
     "metadata": {},
     "output_type": "execute_result"
    }
   ],
   "source": [
    "reuters.raw('test/14826')"
   ]
  },
  {
   "cell_type": "markdown",
   "metadata": {},
   "source": [
    "Let's see what category it has been assigned:"
   ]
  },
  {
   "cell_type": "code",
   "execution_count": 9,
   "metadata": {},
   "outputs": [
    {
     "data": {
      "text/plain": [
       "['trade']"
      ]
     },
     "execution_count": 9,
     "metadata": {},
     "output_type": "execute_result"
    }
   ],
   "source": [
    "reuters.categories('test/14826')"
   ]
  },
  {
   "cell_type": "markdown",
   "metadata": {},
   "source": [
    "Extract documents and their respective categories. This gives us a (text, category) tuple for every news article."
   ]
  },
  {
   "cell_type": "code",
   "execution_count": 10,
   "metadata": {},
   "outputs": [],
   "source": [
    "documents = [(reuters.raw(fileid), reuters.categories(fileid)[0])\n",
    "             for fileid in fileids]"
   ]
  },
  {
   "cell_type": "markdown",
   "metadata": {},
   "source": [
    "Let's seet the first 5 (text, category) tuples:"
   ]
  },
  {
   "cell_type": "code",
   "execution_count": 11,
   "metadata": {},
   "outputs": [
    {
     "data": {
      "text/plain": [
       "[('ASIAN EXPORTERS FEAR DAMAGE FROM U.S.-JAPAN RIFT\\n  Mounting trade friction between the\\n  U.S. And Japan has raised fears among many of Asia\\'s exporting\\n  nations that the row could inflict far-reaching economic\\n  damage, businessmen and officials said.\\n      They told Reuter correspondents in Asian capitals a U.S.\\n  Move against Japan might boost protectionist sentiment in the\\n  U.S. And lead to curbs on American imports of their products.\\n      But some exporters said that while the conflict would hurt\\n  them in the long-run, in the short-term Tokyo\\'s loss might be\\n  their gain.\\n      The U.S. Has said it will impose 300 mln dlrs of tariffs on\\n  imports of Japanese electronics goods on April 17, in\\n  retaliation for Japan\\'s alleged failure to stick to a pact not\\n  to sell semiconductors on world markets at below cost.\\n      Unofficial Japanese estimates put the impact of the tariffs\\n  at 10 billion dlrs and spokesmen for major electronics firms\\n  said they would virtually halt exports of products hit by the\\n  new taxes.\\n      \"We wouldn\\'t be able to do business,\" said a spokesman for\\n  leading Japanese electronics firm Matsushita Electric\\n  Industrial Co Ltd &lt;MC.T>.\\n      \"If the tariffs remain in place for any length of time\\n  beyond a few months it will mean the complete erosion of\\n  exports (of goods subject to tariffs) to the U.S.,\" said Tom\\n  Murtha, a stock analyst at the Tokyo office of broker &lt;James\\n  Capel and Co>.\\n      In Taiwan, businessmen and officials are also worried.\\n      \"We are aware of the seriousness of the U.S. Threat against\\n  Japan because it serves as a warning to us,\" said a senior\\n  Taiwanese trade official who asked not to be named.\\n      Taiwan had a trade trade surplus of 15.6 billion dlrs last\\n  year, 95 pct of it with the U.S.\\n      The surplus helped swell Taiwan\\'s foreign exchange reserves\\n  to 53 billion dlrs, among the world\\'s largest.\\n      \"We must quickly open our markets, remove trade barriers and\\n  cut import tariffs to allow imports of U.S. Products, if we\\n  want to defuse problems from possible U.S. Retaliation,\" said\\n  Paul Sheen, chairman of textile exporters &lt;Taiwan Safe Group>.\\n      A senior official of South Korea\\'s trade promotion\\n  association said the trade dispute between the U.S. And Japan\\n  might also lead to pressure on South Korea, whose chief exports\\n  are similar to those of Japan.\\n      Last year South Korea had a trade surplus of 7.1 billion\\n  dlrs with the U.S., Up from 4.9 billion dlrs in 1985.\\n      In Malaysia, trade officers and businessmen said tough\\n  curbs against Japan might allow hard-hit producers of\\n  semiconductors in third countries to expand their sales to the\\n  U.S.\\n      In Hong Kong, where newspapers have alleged Japan has been\\n  selling below-cost semiconductors, some electronics\\n  manufacturers share that view. But other businessmen said such\\n  a short-term commercial advantage would be outweighed by\\n  further U.S. Pressure to block imports.\\n      \"That is a very short-term view,\" said Lawrence Mills,\\n  director-general of the Federation of Hong Kong Industry.\\n      \"If the whole purpose is to prevent imports, one day it will\\n  be extended to other sources. Much more serious for Hong Kong\\n  is the disadvantage of action restraining trade,\" he said.\\n      The U.S. Last year was Hong Kong\\'s biggest export market,\\n  accounting for over 30 pct of domestically produced exports.\\n      The Australian government is awaiting the outcome of trade\\n  talks between the U.S. And Japan with interest and concern,\\n  Industry Minister John Button said in Canberra last Friday.\\n      \"This kind of deterioration in trade relations between two\\n  countries which are major trading partners of ours is a very\\n  serious matter,\" Button said.\\n      He said Australia\\'s concerns centred on coal and beef,\\n  Australia\\'s two largest exports to Japan and also significant\\n  U.S. Exports to that country.\\n      Meanwhile U.S.-Japanese diplomatic manoeuvres to solve the\\n  trade stand-off continue.\\n      Japan\\'s ruling Liberal Democratic Party yesterday outlined\\n  a package of economic measures to boost the Japanese economy.\\n      The measures proposed include a large supplementary budget\\n  and record public works spending in the first half of the\\n  financial year.\\n      They also call for stepped-up spending as an emergency\\n  measure to stimulate the economy despite Prime Minister\\n  Yasuhiro Nakasone\\'s avowed fiscal reform program.\\n      Deputy U.S. Trade Representative Michael Smith and Makoto\\n  Kuroda, Japan\\'s deputy minister of International Trade and\\n  Industry (MITI), are due to meet in Washington this week in an\\n  effort to end the dispute.\\n  \\n\\n',\n",
       "  'trade'),\n",
       " (\"CHINA DAILY SAYS VERMIN EAT 7-12 PCT GRAIN STOCKS\\n  A survey of 19 provinces and seven cities\\n  showed vermin consume between seven and 12 pct of China's grain\\n  stocks, the China Daily said.\\n      It also said that each year 1.575 mln tonnes, or 25 pct, of\\n  China's fruit output are left to rot, and 2.1 mln tonnes, or up\\n  to 30 pct, of its vegetables. The paper blamed the waste on\\n  inadequate storage and bad preservation methods.\\n      It said the government had launched a national programme to\\n  reduce waste, calling for improved technology in storage and\\n  preservation, and greater production of additives. The paper\\n  gave no further details.\\n  \\n\\n\",\n",
       "  'grain'),\n",
       " (\"JAPAN TO REVISE LONG-TERM ENERGY DEMAND DOWNWARDS\\n  The Ministry of International Trade and\\n  Industry (MITI) will revise its long-term energy supply/demand\\n  outlook by August to meet a forecast downtrend in Japanese\\n  energy demand, ministry officials said.\\n      MITI is expected to lower the projection for primary energy\\n  supplies in the year 2000 to 550 mln kilolitres (kl) from 600\\n  mln, they said.\\n      The decision follows the emergence of structural changes in\\n  Japanese industry following the rise in the value of the yen\\n  and a decline in domestic electric power demand.\\n      MITI is planning to work out a revised energy supply/demand\\n  outlook through deliberations of committee meetings of the\\n  Agency of Natural Resources and Energy, the officials said.\\n      They said MITI will also review the breakdown of energy\\n  supply sources, including oil, nuclear, coal and natural gas.\\n      Nuclear energy provided the bulk of Japan's electric power\\n  in the fiscal year ended March 31, supplying an estimated 27\\n  pct on a kilowatt/hour basis, followed by oil (23 pct) and\\n  liquefied natural gas (21 pct), they noted.\\n  \\n\\n\",\n",
       "  'crude'),\n",
       " (\"THAI TRADE DEFICIT WIDENS IN FIRST QUARTER\\n  Thailand's trade deficit widened to 4.5\\n  billion baht in the first quarter of 1987 from 2.1 billion a\\n  year ago, the Business Economics Department said.\\n      It said Janunary/March imports rose to 65.1 billion baht\\n  from 58.7 billion. Thailand's improved business climate this\\n  year resulted in a 27 pct increase in imports of raw materials\\n  and semi-finished products.\\n      The country's oil import bill, however, fell 23 pct in the\\n  first quarter due to lower oil prices.\\n      The department said first quarter exports expanded to 60.6\\n  billion baht from 56.6 billion.\\n      Export growth was smaller than expected due to lower\\n  earnings from many key commodities including rice whose\\n  earnings declined 18 pct, maize 66 pct, sugar 45 pct, tin 26\\n  pct and canned pineapples seven pct.\\n      Products registering high export growth were jewellery up\\n  64 pct, clothing 57 pct and rubber 35 pct.\\n  \\n\\n\",\n",
       "  'corn'),\n",
       " (\"INDONESIA SEES CPO PRICE RISING SHARPLY\\n  Indonesia expects crude palm oil (CPO)\\n  prices to rise sharply to between 450 and 550 dlrs a tonne FOB\\n  sometime this year because of better European demand and a fall\\n  in Malaysian output, Hasrul Harahap, junior minister for tree\\n  crops, told Indonesian reporters.\\n      Prices of Malaysian and Sumatran CPO are now around 332\\n  dlrs a tonne CIF for delivery in Rotterdam, traders said.\\n      Harahap said Indonesia would maintain its exports, despite\\n  making recent palm oil purchases from Malaysia, so that it\\n  could possibly increase its international market share.\\n      Indonesia, the world's second largest producer of palm oil\\n  after Malaysia, has been forced to import palm oil to ensure\\n  supplies during the Moslem fasting month of Ramadan.\\n      Harahap said it was better to import to cover a temporary\\n  shortage than to lose export markets.\\n      Indonesian exports of CPO in calendar 1986 were 530,500\\n  tonnes, against 468,500 in 1985, according to central bank\\n  figures.\\n  \\n\\n\",\n",
       "  'palm-oil')]"
      ]
     },
     "execution_count": 11,
     "metadata": {},
     "output_type": "execute_result"
    }
   ],
   "source": [
    "documents[:5]"
   ]
  },
  {
   "cell_type": "markdown",
   "metadata": {},
   "source": [
    "Check that we still have the same number of documents."
   ]
  },
  {
   "cell_type": "code",
   "execution_count": 12,
   "metadata": {},
   "outputs": [
    {
     "data": {
      "text/plain": [
       "10788"
      ]
     },
     "execution_count": 12,
     "metadata": {},
     "output_type": "execute_result"
    }
   ],
   "source": [
    "len(documents)"
   ]
  },
  {
   "cell_type": "code",
   "execution_count": 13,
   "metadata": {},
   "outputs": [
    {
     "name": "stdout",
     "output_type": "stream",
     "text": [
      "ASIAN EXPORTERS FEAR DAMAGE FROM U.S.-JAPAN RIFT\n",
      "  Mounting trade friction between the\n",
      "  U.S. And Japan has raised fears among many of Asia's exporting\n",
      "  nations that the row could inflict far-reaching economic\n",
      "  damage, businessmen and officials said.\n",
      "      They told Reuter correspondents in Asian capitals a U.S.\n",
      "  Move against Japan might boost protectionist sentiment in the\n",
      "  U.S. And lead to curbs on American imports of their products.\n",
      "      But some exporters said that while the conflict would hurt\n",
      "  them in the long-run, in the short-term Tokyo's loss might be\n",
      "  their gain.\n",
      "      The U.S. Has said it will impose 300 mln dlrs of tariffs on\n",
      "  imports of Japanese electronics goods on April 17, in\n",
      "  retaliation for Japan's alleged failure to stick to a pact not\n",
      "  to sell semiconductors on world markets at below cost.\n",
      "      Unofficial Japanese estimates put the impact of the tariffs\n",
      "  at 10 billion dlrs and spokesmen for major electronics firms\n",
      "  said they would virtually halt exports of products hit by the\n",
      "  new taxes.\n",
      "      \"We wouldn't be able to do business,\" said a spokesman for\n",
      "  leading Japanese electronics firm Matsushita Electric\n",
      "  Industrial Co Ltd &lt;MC.T>.\n",
      "      \"If the tariffs remain in place for any length of time\n",
      "  beyond a few months it will mean the complete erosion of\n",
      "  exports (of goods subject to tariffs) to the U.S.,\" said Tom\n",
      "  Murtha, a stock analyst at the Tokyo office of broker &lt;James\n",
      "  Capel and Co>.\n",
      "      In Taiwan, businessmen and officials are also worried.\n",
      "      \"We are aware of the seriousness of the U.S. Threat against\n",
      "  Japan because it serves as a warning to us,\" said a senior\n",
      "  Taiwanese trade official who asked not to be named.\n",
      "      Taiwan had a trade trade surplus of 15.6 billion dlrs last\n",
      "  year, 95 pct of it with the U.S.\n",
      "      The surplus helped swell Taiwan's foreign exchange reserves\n",
      "  to 53 billion dlrs, among the world's largest.\n",
      "      \"We must quickly open our markets, remove trade barriers and\n",
      "  cut import tariffs to allow imports of U.S. Products, if we\n",
      "  want to defuse problems from possible U.S. Retaliation,\" said\n",
      "  Paul Sheen, chairman of textile exporters &lt;Taiwan Safe Group>.\n",
      "      A senior official of South Korea's trade promotion\n",
      "  association said the trade dispute between the U.S. And Japan\n",
      "  might also lead to pressure on South Korea, whose chief exports\n",
      "  are similar to those of Japan.\n",
      "      Last year South Korea had a trade surplus of 7.1 billion\n",
      "  dlrs with the U.S., Up from 4.9 billion dlrs in 1985.\n",
      "      In Malaysia, trade officers and businessmen said tough\n",
      "  curbs against Japan might allow hard-hit producers of\n",
      "  semiconductors in third countries to expand their sales to the\n",
      "  U.S.\n",
      "      In Hong Kong, where newspapers have alleged Japan has been\n",
      "  selling below-cost semiconductors, some electronics\n",
      "  manufacturers share that view. But other businessmen said such\n",
      "  a short-term commercial advantage would be outweighed by\n",
      "  further U.S. Pressure to block imports.\n",
      "      \"That is a very short-term view,\" said Lawrence Mills,\n",
      "  director-general of the Federation of Hong Kong Industry.\n",
      "      \"If the whole purpose is to prevent imports, one day it will\n",
      "  be extended to other sources. Much more serious for Hong Kong\n",
      "  is the disadvantage of action restraining trade,\" he said.\n",
      "      The U.S. Last year was Hong Kong's biggest export market,\n",
      "  accounting for over 30 pct of domestically produced exports.\n",
      "      The Australian government is awaiting the outcome of trade\n",
      "  talks between the U.S. And Japan with interest and concern,\n",
      "  Industry Minister John Button said in Canberra last Friday.\n",
      "      \"This kind of deterioration in trade relations between two\n",
      "  countries which are major trading partners of ours is a very\n",
      "  serious matter,\" Button said.\n",
      "      He said Australia's concerns centred on coal and beef,\n",
      "  Australia's two largest exports to Japan and also significant\n",
      "  U.S. Exports to that country.\n",
      "      Meanwhile U.S.-Japanese diplomatic manoeuvres to solve the\n",
      "  trade stand-off continue.\n",
      "      Japan's ruling Liberal Democratic Party yesterday outlined\n",
      "  a package of economic measures to boost the Japanese economy.\n",
      "      The measures proposed include a large supplementary budget\n",
      "  and record public works spending in the first half of the\n",
      "  financial year.\n",
      "      They also call for stepped-up spending as an emergency\n",
      "  measure to stimulate the economy despite Prime Minister\n",
      "  Yasuhiro Nakasone's avowed fiscal reform program.\n",
      "      Deputy U.S. Trade Representative Michael Smith and Makoto\n",
      "  Kuroda, Japan's deputy minister of International Trade and\n",
      "  Industry (MITI), are due to meet in Washington this week in an\n",
      "  effort to end the dispute.\n",
      "  \n",
      "\n",
      " trade\n"
     ]
    }
   ],
   "source": [
    "print(documents[0][0],\n",
    "      documents[0][1])"
   ]
  },
  {
   "cell_type": "markdown",
   "metadata": {},
   "source": [
    "Split into texts and labels"
   ]
  },
  {
   "cell_type": "code",
   "execution_count": 14,
   "metadata": {},
   "outputs": [],
   "source": [
    "texts, labels = zip(*documents)\n",
    "\n",
    "# Using zip above is equivalent to:\n",
    "# texts = [document[0] for document in documents]\n",
    "# labels = [document[1] for document in documents]"
   ]
  },
  {
   "cell_type": "code",
   "execution_count": 15,
   "metadata": {},
   "outputs": [
    {
     "name": "stdout",
     "output_type": "stream",
     "text": [
      "ASIAN EXPORTERS FEAR DAMAGE FROM U.S.-JAPAN RIFT\n",
      "  Mounting trade friction between the\n",
      "  U.S. And Japan has raised fears among many of Asia's exporting\n",
      "  nations that the row could inflict far-reaching economic\n",
      "  damage, businessmen and officials said.\n",
      "      They told Reuter correspondents in Asian capitals a U.S.\n",
      "  Move against Japan might boost protectionist sentiment in the\n",
      "  U.S. And lead to curbs on American imports of their products.\n",
      "      But some exporters said that while the conflict would hurt\n",
      "  them in the long-run, in the short-term Tokyo's loss might be\n",
      "  their gain.\n",
      "      The U.S. Has said it will impose 300 mln dlrs of tariffs on\n",
      "  imports of Japanese electronics goods on April 17, in\n",
      "  retaliation for Japan's alleged failure to stick to a pact not\n",
      "  to sell semiconductors on world markets at below cost.\n",
      "      Unofficial Japanese estimates put the impact of the tariffs\n",
      "  at 10 billion dlrs and spokesmen for major electronics firms\n",
      "  said they would virtually halt exports of products hit by the\n",
      "  new taxes.\n",
      "      \"We wouldn't be able to do business,\" said a spokesman for\n",
      "  leading Japanese electronics firm Matsushita Electric\n",
      "  Industrial Co Ltd &lt;MC.T>.\n",
      "      \"If the tariffs remain in place for any length of time\n",
      "  beyond a few months it will mean the complete erosion of\n",
      "  exports (of goods subject to tariffs) to the U.S.,\" said Tom\n",
      "  Murtha, a stock analyst at the Tokyo office of broker &lt;James\n",
      "  Capel and Co>.\n",
      "      In Taiwan, businessmen and officials are also worried.\n",
      "      \"We are aware of the seriousness of the U.S. Threat against\n",
      "  Japan because it serves as a warning to us,\" said a senior\n",
      "  Taiwanese trade official who asked not to be named.\n",
      "      Taiwan had a trade trade surplus of 15.6 billion dlrs last\n",
      "  year, 95 pct of it with the U.S.\n",
      "      The surplus helped swell Taiwan's foreign exchange reserves\n",
      "  to 53 billion dlrs, among the world's largest.\n",
      "      \"We must quickly open our markets, remove trade barriers and\n",
      "  cut import tariffs to allow imports of U.S. Products, if we\n",
      "  want to defuse problems from possible U.S. Retaliation,\" said\n",
      "  Paul Sheen, chairman of textile exporters &lt;Taiwan Safe Group>.\n",
      "      A senior official of South Korea's trade promotion\n",
      "  association said the trade dispute between the U.S. And Japan\n",
      "  might also lead to pressure on South Korea, whose chief exports\n",
      "  are similar to those of Japan.\n",
      "      Last year South Korea had a trade surplus of 7.1 billion\n",
      "  dlrs with the U.S., Up from 4.9 billion dlrs in 1985.\n",
      "      In Malaysia, trade officers and businessmen said tough\n",
      "  curbs against Japan might allow hard-hit producers of\n",
      "  semiconductors in third countries to expand their sales to the\n",
      "  U.S.\n",
      "      In Hong Kong, where newspapers have alleged Japan has been\n",
      "  selling below-cost semiconductors, some electronics\n",
      "  manufacturers share that view. But other businessmen said such\n",
      "  a short-term commercial advantage would be outweighed by\n",
      "  further U.S. Pressure to block imports.\n",
      "      \"That is a very short-term view,\" said Lawrence Mills,\n",
      "  director-general of the Federation of Hong Kong Industry.\n",
      "      \"If the whole purpose is to prevent imports, one day it will\n",
      "  be extended to other sources. Much more serious for Hong Kong\n",
      "  is the disadvantage of action restraining trade,\" he said.\n",
      "      The U.S. Last year was Hong Kong's biggest export market,\n",
      "  accounting for over 30 pct of domestically produced exports.\n",
      "      The Australian government is awaiting the outcome of trade\n",
      "  talks between the U.S. And Japan with interest and concern,\n",
      "  Industry Minister John Button said in Canberra last Friday.\n",
      "      \"This kind of deterioration in trade relations between two\n",
      "  countries which are major trading partners of ours is a very\n",
      "  serious matter,\" Button said.\n",
      "      He said Australia's concerns centred on coal and beef,\n",
      "  Australia's two largest exports to Japan and also significant\n",
      "  U.S. Exports to that country.\n",
      "      Meanwhile U.S.-Japanese diplomatic manoeuvres to solve the\n",
      "  trade stand-off continue.\n",
      "      Japan's ruling Liberal Democratic Party yesterday outlined\n",
      "  a package of economic measures to boost the Japanese economy.\n",
      "      The measures proposed include a large supplementary budget\n",
      "  and record public works spending in the first half of the\n",
      "  financial year.\n",
      "      They also call for stepped-up spending as an emergency\n",
      "  measure to stimulate the economy despite Prime Minister\n",
      "  Yasuhiro Nakasone's avowed fiscal reform program.\n",
      "      Deputy U.S. Trade Representative Michael Smith and Makoto\n",
      "  Kuroda, Japan's deputy minister of International Trade and\n",
      "  Industry (MITI), are due to meet in Washington this week in an\n",
      "  effort to end the dispute.\n",
      "  \n",
      "\n",
      "\n",
      "trade\n"
     ]
    }
   ],
   "source": [
    "print(texts[0])\n",
    "print(labels[0])"
   ]
  },
  {
   "cell_type": "markdown",
   "metadata": {},
   "source": [
    "## Preprocess texts\n",
    "In this case, we will remove stopwords as they are very common but don't much influence the text categorization. In other NLP tasks, such as text understanding, the stopwords may be crucial."
   ]
  },
  {
   "cell_type": "markdown",
   "metadata": {},
   "source": [
    "Punkt is a pre-trained model for tokenizing text into sentences and words. Tokenization involves breaking down a text into smaller pieces, such as words or sentences, which can then be analyzed or processed further."
   ]
  },
  {
   "cell_type": "code",
   "execution_count": 16,
   "metadata": {},
   "outputs": [
    {
     "name": "stderr",
     "output_type": "stream",
     "text": [
      "[nltk_data] Downloading package punkt to\n",
      "[nltk_data]     C:\\Users\\jmmck\\AppData\\Roaming\\nltk_data...\n",
      "[nltk_data]   Package punkt is already up-to-date!\n"
     ]
    },
    {
     "data": {
      "text/plain": [
       "True"
      ]
     },
     "execution_count": 16,
     "metadata": {},
     "output_type": "execute_result"
    }
   ],
   "source": [
    "nltk.download('punkt')"
   ]
  },
  {
   "cell_type": "markdown",
   "metadata": {},
   "source": [
    "Let's see how the first news article gets tokenized."
   ]
  },
  {
   "cell_type": "code",
   "execution_count": 17,
   "metadata": {},
   "outputs": [
    {
     "name": "stdout",
     "output_type": "stream",
     "text": [
      "ASIAN\n",
      "EXPORTERS\n",
      "FEAR\n",
      "DAMAGE\n",
      "FROM\n",
      "U.S.-JAPAN\n",
      "RIFT\n",
      "Mounting\n",
      "trade\n",
      "friction\n",
      "between\n",
      "the\n",
      "U.S.\n",
      "And\n",
      "Japan\n",
      "has\n",
      "raised\n",
      "fears\n",
      "among\n",
      "many\n",
      "of\n",
      "Asia\n",
      "'s\n",
      "exporting\n",
      "nations\n",
      "that\n",
      "the\n",
      "row\n",
      "could\n",
      "inflict\n",
      "far-reaching\n",
      "economic\n",
      "damage\n",
      ",\n",
      "businessmen\n",
      "and\n",
      "officials\n",
      "said\n",
      ".\n",
      "They\n",
      "told\n",
      "Reuter\n",
      "correspondents\n",
      "in\n",
      "Asian\n",
      "capitals\n",
      "a\n",
      "U.S.\n",
      "Move\n",
      "against\n",
      "Japan\n",
      "might\n",
      "boost\n",
      "protectionist\n",
      "sentiment\n",
      "in\n",
      "the\n",
      "U.S.\n",
      "And\n",
      "lead\n",
      "to\n",
      "curbs\n",
      "on\n",
      "American\n",
      "imports\n",
      "of\n",
      "their\n",
      "products\n",
      ".\n",
      "But\n",
      "some\n",
      "exporters\n",
      "said\n",
      "that\n",
      "while\n",
      "the\n",
      "conflict\n",
      "would\n",
      "hurt\n",
      "them\n",
      "in\n",
      "the\n",
      "long-run\n",
      ",\n",
      "in\n",
      "the\n",
      "short-term\n",
      "Tokyo\n",
      "'s\n",
      "loss\n",
      "might\n",
      "be\n",
      "their\n",
      "gain\n",
      ".\n",
      "The\n",
      "U.S.\n",
      "Has\n",
      "said\n",
      "it\n",
      "will\n",
      "impose\n",
      "300\n",
      "mln\n",
      "dlrs\n",
      "of\n",
      "tariffs\n",
      "on\n",
      "imports\n",
      "of\n",
      "Japanese\n",
      "electronics\n",
      "goods\n",
      "on\n",
      "April\n",
      "17\n",
      ",\n",
      "in\n",
      "retaliation\n",
      "for\n",
      "Japan\n",
      "'s\n",
      "alleged\n",
      "failure\n",
      "to\n",
      "stick\n",
      "to\n",
      "a\n",
      "pact\n",
      "not\n",
      "to\n",
      "sell\n",
      "semiconductors\n",
      "on\n",
      "world\n",
      "markets\n",
      "at\n",
      "below\n",
      "cost\n",
      ".\n",
      "Unofficial\n",
      "Japanese\n",
      "estimates\n",
      "put\n",
      "the\n",
      "impact\n",
      "of\n",
      "the\n",
      "tariffs\n",
      "at\n",
      "10\n",
      "billion\n",
      "dlrs\n",
      "and\n",
      "spokesmen\n",
      "for\n",
      "major\n",
      "electronics\n",
      "firms\n",
      "said\n",
      "they\n",
      "would\n",
      "virtually\n",
      "halt\n",
      "exports\n",
      "of\n",
      "products\n",
      "hit\n",
      "by\n",
      "the\n",
      "new\n",
      "taxes\n",
      ".\n",
      "``\n",
      "We\n",
      "would\n",
      "n't\n",
      "be\n",
      "able\n",
      "to\n",
      "do\n",
      "business\n",
      ",\n",
      "''\n",
      "said\n",
      "a\n",
      "spokesman\n",
      "for\n",
      "leading\n",
      "Japanese\n",
      "electronics\n",
      "firm\n",
      "Matsushita\n",
      "Electric\n",
      "Industrial\n",
      "Co\n",
      "Ltd\n",
      "&\n",
      "lt\n",
      ";\n",
      "MC.T\n",
      ">\n",
      ".\n",
      "``\n",
      "If\n",
      "the\n",
      "tariffs\n",
      "remain\n",
      "in\n",
      "place\n",
      "for\n",
      "any\n",
      "length\n",
      "of\n",
      "time\n",
      "beyond\n",
      "a\n",
      "few\n",
      "months\n",
      "it\n",
      "will\n",
      "mean\n",
      "the\n",
      "complete\n",
      "erosion\n",
      "of\n",
      "exports\n",
      "(\n",
      "of\n",
      "goods\n",
      "subject\n",
      "to\n",
      "tariffs\n",
      ")\n",
      "to\n",
      "the\n",
      "U.S.\n",
      ",\n",
      "''\n",
      "said\n",
      "Tom\n",
      "Murtha\n",
      ",\n",
      "a\n",
      "stock\n",
      "analyst\n",
      "at\n",
      "the\n",
      "Tokyo\n",
      "office\n",
      "of\n",
      "broker\n",
      "&\n",
      "lt\n",
      ";\n",
      "James\n",
      "Capel\n",
      "and\n",
      "Co\n",
      ">\n",
      ".\n",
      "In\n",
      "Taiwan\n",
      ",\n",
      "businessmen\n",
      "and\n",
      "officials\n",
      "are\n",
      "also\n",
      "worried\n",
      ".\n",
      "``\n",
      "We\n",
      "are\n",
      "aware\n",
      "of\n",
      "the\n",
      "seriousness\n",
      "of\n",
      "the\n",
      "U.S\n",
      ".\n",
      "Threat\n",
      "against\n",
      "Japan\n",
      "because\n",
      "it\n",
      "serves\n",
      "as\n",
      "a\n",
      "warning\n",
      "to\n",
      "us\n",
      ",\n",
      "''\n",
      "said\n",
      "a\n",
      "senior\n",
      "Taiwanese\n",
      "trade\n",
      "official\n",
      "who\n",
      "asked\n",
      "not\n",
      "to\n",
      "be\n",
      "named\n",
      ".\n",
      "Taiwan\n",
      "had\n",
      "a\n",
      "trade\n",
      "trade\n",
      "surplus\n",
      "of\n",
      "15.6\n",
      "billion\n",
      "dlrs\n",
      "last\n",
      "year\n",
      ",\n",
      "95\n",
      "pct\n",
      "of\n",
      "it\n",
      "with\n",
      "the\n",
      "U.S\n",
      ".\n",
      "The\n",
      "surplus\n",
      "helped\n",
      "swell\n",
      "Taiwan\n",
      "'s\n",
      "foreign\n",
      "exchange\n",
      "reserves\n",
      "to\n",
      "53\n",
      "billion\n",
      "dlrs\n",
      ",\n",
      "among\n",
      "the\n",
      "world\n",
      "'s\n",
      "largest\n",
      ".\n",
      "``\n",
      "We\n",
      "must\n",
      "quickly\n",
      "open\n",
      "our\n",
      "markets\n",
      ",\n",
      "remove\n",
      "trade\n",
      "barriers\n",
      "and\n",
      "cut\n",
      "import\n",
      "tariffs\n",
      "to\n",
      "allow\n",
      "imports\n",
      "of\n",
      "U.S.\n",
      "Products\n",
      ",\n",
      "if\n",
      "we\n",
      "want\n",
      "to\n",
      "defuse\n",
      "problems\n",
      "from\n",
      "possible\n",
      "U.S\n",
      ".\n",
      "Retaliation\n",
      ",\n",
      "''\n",
      "said\n",
      "Paul\n",
      "Sheen\n",
      ",\n",
      "chairman\n",
      "of\n",
      "textile\n",
      "exporters\n",
      "&\n",
      "lt\n",
      ";\n",
      "Taiwan\n",
      "Safe\n",
      "Group\n",
      ">\n",
      ".\n",
      "A\n",
      "senior\n",
      "official\n",
      "of\n",
      "South\n",
      "Korea\n",
      "'s\n",
      "trade\n",
      "promotion\n",
      "association\n",
      "said\n",
      "the\n",
      "trade\n",
      "dispute\n",
      "between\n",
      "the\n",
      "U.S.\n",
      "And\n",
      "Japan\n",
      "might\n",
      "also\n",
      "lead\n",
      "to\n",
      "pressure\n",
      "on\n",
      "South\n",
      "Korea\n",
      ",\n",
      "whose\n",
      "chief\n",
      "exports\n",
      "are\n",
      "similar\n",
      "to\n",
      "those\n",
      "of\n",
      "Japan\n",
      ".\n",
      "Last\n",
      "year\n",
      "South\n",
      "Korea\n",
      "had\n",
      "a\n",
      "trade\n",
      "surplus\n",
      "of\n",
      "7.1\n",
      "billion\n",
      "dlrs\n",
      "with\n",
      "the\n",
      "U.S.\n",
      ",\n",
      "Up\n",
      "from\n",
      "4.9\n",
      "billion\n",
      "dlrs\n",
      "in\n",
      "1985\n",
      ".\n",
      "In\n",
      "Malaysia\n",
      ",\n",
      "trade\n",
      "officers\n",
      "and\n",
      "businessmen\n",
      "said\n",
      "tough\n",
      "curbs\n",
      "against\n",
      "Japan\n",
      "might\n",
      "allow\n",
      "hard-hit\n",
      "producers\n",
      "of\n",
      "semiconductors\n",
      "in\n",
      "third\n",
      "countries\n",
      "to\n",
      "expand\n",
      "their\n",
      "sales\n",
      "to\n",
      "the\n",
      "U.S\n",
      ".\n",
      "In\n",
      "Hong\n",
      "Kong\n",
      ",\n",
      "where\n",
      "newspapers\n",
      "have\n",
      "alleged\n",
      "Japan\n",
      "has\n",
      "been\n",
      "selling\n",
      "below-cost\n",
      "semiconductors\n",
      ",\n",
      "some\n",
      "electronics\n",
      "manufacturers\n",
      "share\n",
      "that\n",
      "view\n",
      ".\n",
      "But\n",
      "other\n",
      "businessmen\n",
      "said\n",
      "such\n",
      "a\n",
      "short-term\n",
      "commercial\n",
      "advantage\n",
      "would\n",
      "be\n",
      "outweighed\n",
      "by\n",
      "further\n",
      "U.S.\n",
      "Pressure\n",
      "to\n",
      "block\n",
      "imports\n",
      ".\n",
      "``\n",
      "That\n",
      "is\n",
      "a\n",
      "very\n",
      "short-term\n",
      "view\n",
      ",\n",
      "''\n",
      "said\n",
      "Lawrence\n",
      "Mills\n",
      ",\n",
      "director-general\n",
      "of\n",
      "the\n",
      "Federation\n",
      "of\n",
      "Hong\n",
      "Kong\n",
      "Industry\n",
      ".\n",
      "``\n",
      "If\n",
      "the\n",
      "whole\n",
      "purpose\n",
      "is\n",
      "to\n",
      "prevent\n",
      "imports\n",
      ",\n",
      "one\n",
      "day\n",
      "it\n",
      "will\n",
      "be\n",
      "extended\n",
      "to\n",
      "other\n",
      "sources\n",
      ".\n",
      "Much\n",
      "more\n",
      "serious\n",
      "for\n",
      "Hong\n",
      "Kong\n",
      "is\n",
      "the\n",
      "disadvantage\n",
      "of\n",
      "action\n",
      "restraining\n",
      "trade\n",
      ",\n",
      "''\n",
      "he\n",
      "said\n",
      ".\n",
      "The\n",
      "U.S.\n",
      "Last\n",
      "year\n",
      "was\n",
      "Hong\n",
      "Kong\n",
      "'s\n",
      "biggest\n",
      "export\n",
      "market\n",
      ",\n",
      "accounting\n",
      "for\n",
      "over\n",
      "30\n",
      "pct\n",
      "of\n",
      "domestically\n",
      "produced\n",
      "exports\n",
      ".\n",
      "The\n",
      "Australian\n",
      "government\n",
      "is\n",
      "awaiting\n",
      "the\n",
      "outcome\n",
      "of\n",
      "trade\n",
      "talks\n",
      "between\n",
      "the\n",
      "U.S.\n",
      "And\n",
      "Japan\n",
      "with\n",
      "interest\n",
      "and\n",
      "concern\n",
      ",\n",
      "Industry\n",
      "Minister\n",
      "John\n",
      "Button\n",
      "said\n",
      "in\n",
      "Canberra\n",
      "last\n",
      "Friday\n",
      ".\n",
      "``\n",
      "This\n",
      "kind\n",
      "of\n",
      "deterioration\n",
      "in\n",
      "trade\n",
      "relations\n",
      "between\n",
      "two\n",
      "countries\n",
      "which\n",
      "are\n",
      "major\n",
      "trading\n",
      "partners\n",
      "of\n",
      "ours\n",
      "is\n",
      "a\n",
      "very\n",
      "serious\n",
      "matter\n",
      ",\n",
      "''\n",
      "Button\n",
      "said\n",
      ".\n",
      "He\n",
      "said\n",
      "Australia\n",
      "'s\n",
      "concerns\n",
      "centred\n",
      "on\n",
      "coal\n",
      "and\n",
      "beef\n",
      ",\n",
      "Australia\n",
      "'s\n",
      "two\n",
      "largest\n",
      "exports\n",
      "to\n",
      "Japan\n",
      "and\n",
      "also\n",
      "significant\n",
      "U.S.\n",
      "Exports\n",
      "to\n",
      "that\n",
      "country\n",
      ".\n",
      "Meanwhile\n",
      "U.S.-Japanese\n",
      "diplomatic\n",
      "manoeuvres\n",
      "to\n",
      "solve\n",
      "the\n",
      "trade\n",
      "stand-off\n",
      "continue\n",
      ".\n",
      "Japan\n",
      "'s\n",
      "ruling\n",
      "Liberal\n",
      "Democratic\n",
      "Party\n",
      "yesterday\n",
      "outlined\n",
      "a\n",
      "package\n",
      "of\n",
      "economic\n",
      "measures\n",
      "to\n",
      "boost\n",
      "the\n",
      "Japanese\n",
      "economy\n",
      ".\n",
      "The\n",
      "measures\n",
      "proposed\n",
      "include\n",
      "a\n",
      "large\n",
      "supplementary\n",
      "budget\n",
      "and\n",
      "record\n",
      "public\n",
      "works\n",
      "spending\n",
      "in\n",
      "the\n",
      "first\n",
      "half\n",
      "of\n",
      "the\n",
      "financial\n",
      "year\n",
      ".\n",
      "They\n",
      "also\n",
      "call\n",
      "for\n",
      "stepped-up\n",
      "spending\n",
      "as\n",
      "an\n",
      "emergency\n",
      "measure\n",
      "to\n",
      "stimulate\n",
      "the\n",
      "economy\n",
      "despite\n",
      "Prime\n",
      "Minister\n",
      "Yasuhiro\n",
      "Nakasone\n",
      "'s\n",
      "avowed\n",
      "fiscal\n",
      "reform\n",
      "program\n",
      ".\n",
      "Deputy\n",
      "U.S.\n",
      "Trade\n",
      "Representative\n",
      "Michael\n",
      "Smith\n",
      "and\n",
      "Makoto\n",
      "Kuroda\n",
      ",\n",
      "Japan\n",
      "'s\n",
      "deputy\n",
      "minister\n",
      "of\n",
      "International\n",
      "Trade\n",
      "and\n",
      "Industry\n",
      "(\n",
      "MITI\n",
      ")\n",
      ",\n",
      "are\n",
      "due\n",
      "to\n",
      "meet\n",
      "in\n",
      "Washington\n",
      "this\n",
      "week\n",
      "in\n",
      "an\n",
      "effort\n",
      "to\n",
      "end\n",
      "the\n",
      "dispute\n",
      ".\n"
     ]
    }
   ],
   "source": [
    "# Tokens correspond roughly (but not exactly) to words.\n",
    "for token in nltk.word_tokenize(texts[0]):\n",
    "    print(token)"
   ]
  },
  {
   "cell_type": "markdown",
   "metadata": {},
   "source": [
    "We will use the English language stopwords for stopword removal."
   ]
  },
  {
   "cell_type": "code",
   "execution_count": 18,
   "metadata": {},
   "outputs": [],
   "source": [
    "stop_words = set(stopwords.words('english'))"
   ]
  },
  {
   "cell_type": "markdown",
   "metadata": {},
   "source": [
    "Preprocess texts by:\n",
    "- Converting them to lower case\n",
    "- Rejecting stopwords\n",
    "- Rejecting words that are not alphanumeric"
   ]
  },
  {
   "cell_type": "code",
   "execution_count": 19,
   "metadata": {},
   "outputs": [],
   "source": [
    "preprocessed_texts = [' '.join([word for word in nltk.word_tokenize(text.lower())\n",
    "                                if\n",
    "                                word.isalnum()\n",
    "                                and\n",
    "                                word not in stop_words\n",
    "                                ])\n",
    "                      for text in texts]"
   ]
  },
  {
   "cell_type": "markdown",
   "metadata": {},
   "source": [
    "We should still have the same number of texts"
   ]
  },
  {
   "cell_type": "code",
   "execution_count": 20,
   "metadata": {},
   "outputs": [
    {
     "data": {
      "text/plain": [
       "10788"
      ]
     },
     "execution_count": 20,
     "metadata": {},
     "output_type": "execute_result"
    }
   ],
   "source": [
    "len(preprocessed_texts)"
   ]
  },
  {
   "cell_type": "markdown",
   "metadata": {},
   "source": [
    "We can now see how our preprocessing has affected one of the texts"
   ]
  },
  {
   "cell_type": "code",
   "execution_count": 21,
   "metadata": {},
   "outputs": [
    {
     "data": {
      "text/plain": [
       "'asian exporters fear damage rift mounting trade friction japan raised fears among many asia exporting nations row could inflict economic damage businessmen officials said told reuter correspondents asian capitals move japan might boost protectionist sentiment lead curbs american imports products exporters said conflict would hurt tokyo loss might gain said impose 300 mln dlrs tariffs imports japanese electronics goods april 17 retaliation japan alleged failure stick pact sell semiconductors world markets cost unofficial japanese estimates put impact tariffs 10 billion dlrs spokesmen major electronics firms said would virtually halt exports products hit new taxes would able business said spokesman leading japanese electronics firm matsushita electric industrial co ltd lt tariffs remain place length time beyond months mean complete erosion exports goods subject tariffs said tom murtha stock analyst tokyo office broker lt james capel co taiwan businessmen officials also worried aware seriousness threat japan serves warning us said senior taiwanese trade official asked named taiwan trade trade surplus billion dlrs last year 95 pct surplus helped swell taiwan foreign exchange reserves 53 billion dlrs among world largest must quickly open markets remove trade barriers cut import tariffs allow imports products want defuse problems possible retaliation said paul sheen chairman textile exporters lt taiwan safe group senior official south korea trade promotion association said trade dispute japan might also lead pressure south korea whose chief exports similar japan last year south korea trade surplus billion dlrs billion dlrs malaysia trade officers businessmen said tough curbs japan might allow producers semiconductors third countries expand sales hong kong newspapers alleged japan selling semiconductors electronics manufacturers share view businessmen said commercial advantage would outweighed pressure block imports view said lawrence mills federation hong kong industry whole purpose prevent imports one day extended sources much serious hong kong disadvantage action restraining trade said last year hong kong biggest export market accounting 30 pct domestically produced exports australian government awaiting outcome trade talks japan interest concern industry minister john button said canberra last friday kind deterioration trade relations two countries major trading partners serious matter button said said australia concerns centred coal beef australia two largest exports japan also significant exports country meanwhile diplomatic manoeuvres solve trade continue japan ruling liberal democratic party yesterday outlined package economic measures boost japanese economy measures proposed include large supplementary budget record public works spending first half financial year also call spending emergency measure stimulate economy despite prime minister yasuhiro nakasone avowed fiscal reform program deputy trade representative michael smith makoto kuroda japan deputy minister international trade industry miti due meet washington week effort end dispute'"
      ]
     },
     "execution_count": 21,
     "metadata": {},
     "output_type": "execute_result"
    }
   ],
   "source": [
    "preprocessed_texts[0]"
   ]
  },
  {
   "cell_type": "markdown",
   "metadata": {},
   "source": [
    "Notice in the example that that we have the word 'fear' and the word 'fears'. We could use stemming or lemmatization to reduce words to their roots."
   ]
  },
  {
   "cell_type": "markdown",
   "metadata": {},
   "source": [
    "### Stemming\n",
    "Stemming chops off the ends of words to reduce them to their root form, which might not always be a real word. For example:\n",
    "\n",
    "- \"running\" → \"run\"\n",
    "- \"runner\" → \"run\"\n",
    "- \"happiness\" → \"happi\"\n",
    "\n",
    "Stemming uses simple, rule-based methods (like removing common suffixes such as \"-ing,\" \"-ed,\" or \"-es\") without understanding the meaning of the word.\n",
    "\n",
    "Stemming is fast and straightforward but can sometimes produce incorrect results because it doesn’t consider the context or grammatical rules. For instance:\n",
    "\n",
    "- \"design\" and \"designation\" might both stemmed to \"design,\" which is an over-generalizaztion.\n",
    "- \"better\" might be stemmed to \"bett,\" which isn’t meaningful, because a stemming rule removes \"er\" endings."
   ]
  },
  {
   "cell_type": "markdown",
   "metadata": {},
   "source": [
    "### Lemmatization\n",
    "Lemmatization reduces words to their lemma, which is the base or dictionary form of the word. Unlike stemming, the result is always a valid word. For example:\n",
    "\n",
    "- \"running\" → \"run\"\n",
    "- \"was\" → \"be\"\n",
    "- \"better\" → \"good\"\n",
    "\n",
    "Lemmatization uses a vocabulary and grammar rules to understand the context and part of speech of a word. This makes it more accurate than stemming, but also more complex and slower.\n",
    "\n",
    "Because lemmatization relies on linguistic knowledge, it is better at handling irregular words and meanings. For example, it knows that \"better\" is the comparative form of \"good\" and will normalize it correctly."
   ]
  },
  {
   "cell_type": "markdown",
   "metadata": {},
   "source": [
    "## Convert texts to feature vectors"
   ]
  },
  {
   "cell_type": "code",
   "execution_count": 22,
   "metadata": {},
   "outputs": [],
   "source": [
    "from sklearn.feature_extraction.text import TfidfVectorizer"
   ]
  },
  {
   "cell_type": "code",
   "execution_count": 23,
   "metadata": {},
   "outputs": [],
   "source": [
    "vectorizer = TfidfVectorizer()\n",
    "X = vectorizer.fit_transform(preprocessed_texts)"
   ]
  },
  {
   "cell_type": "markdown",
   "metadata": {},
   "source": [
    "We now have a TF-IDF matrix with one row for every document, and one column for every word. TF stands for Term Frequency and IDF stands for Inverse Document Frequency. TF-IDF values tend to increase as the word (or term) appears more frequently in a document and tends to decrease where the term appears in more documents. The highest values would be for a term that occurs frequently in a document but does not occur in many documents.    "
   ]
  },
  {
   "cell_type": "markdown",
   "metadata": {},
   "source": [
    "X is represented as a sparse vector (one in which most of the values are zeros).\n",
    "\n",
    "When we print it, the format is:<br>(document number, term number), TF-IDF value"
   ]
  },
  {
   "cell_type": "code",
   "execution_count": 24,
   "metadata": {},
   "outputs": [
    {
     "name": "stdout",
     "output_type": "stream",
     "text": [
      "  (0, 9340)\t0.024365571853169215\n",
      "  (0, 9083)\t0.0362735785843248\n",
      "  (0, 28267)\t0.022827933078649863\n",
      "  (0, 28165)\t0.03127339196223212\n",
      "  (0, 16540)\t0.031300122801508984\n",
      "  (0, 8794)\t0.02417373515609685\n",
      "  (0, 17015)\t0.04568732254466827\n",
      "  (0, 13935)\t0.02196437964983277\n",
      "  (0, 14948)\t0.0545100130648482\n",
      "  (0, 16025)\t0.0545100130648482\n",
      "  (0, 24181)\t0.04127929944269113\n",
      "  (0, 16741)\t0.03883813426870354\n",
      "  (0, 21988)\t0.036507020581446385\n",
      "  (0, 7847)\t0.07669545644533336\n",
      "  (0, 20546)\t0.029589515796763683\n",
      "  (0, 21610)\t0.039368344958049833\n",
      "  (0, 10586)\t0.029209077812717796\n",
      "  (0, 3106)\t0.0626976723113864\n",
      "  (0, 17549)\t0.04264585675254528\n",
      "  (0, 28855)\t0.04311852153302596\n",
      "  (0, 20427)\t0.031947191331297996\n",
      "  (0, 7912)\t0.030735909978504287\n",
      "  (0, 24956)\t0.03883813426870354\n",
      "  (0, 16487)\t0.03712993752151316\n",
      "  (0, 9258)\t0.04091944629800057\n",
      "  :\t:\n",
      "  (10786, 23803)\t0.1251719837529468\n",
      "  (10786, 24019)\t0.08601378198309244\n",
      "  (10786, 17793)\t0.11496392434999803\n",
      "  (10786, 164)\t0.10794125571979282\n",
      "  (10786, 18520)\t0.13856409738583347\n",
      "  (10786, 28859)\t0.05329496027711461\n",
      "  (10786, 15797)\t0.039050117763598874\n",
      "  (10786, 17049)\t0.13389957308910527\n",
      "  (10786, 15744)\t0.6053197126085708\n",
      "  (10787, 3037)\t0.30977531021526333\n",
      "  (10787, 25935)\t0.29010408489397266\n",
      "  (10787, 630)\t0.25664996967060333\n",
      "  (10787, 22330)\t0.13623018759548347\n",
      "  (10787, 7165)\t0.4042309842039099\n",
      "  (10787, 8121)\t0.24888157744757616\n",
      "  (10787, 733)\t0.2473241412781922\n",
      "  (10787, 694)\t0.25480344920262094\n",
      "  (10787, 28024)\t0.4093210461549268\n",
      "  (10787, 23803)\t0.2260560410874126\n",
      "  (10787, 605)\t0.26434401074142355\n",
      "  (10787, 17793)\t0.20762065781210828\n",
      "  (10787, 6785)\t0.11025660529697588\n",
      "  (10787, 28859)\t0.09624875606297018\n",
      "  (10787, 15797)\t0.07052308960014057\n",
      "  (10787, 17049)\t0.16121183291600688\n"
     ]
    }
   ],
   "source": [
    "print(X)"
   ]
  },
  {
   "cell_type": "code",
   "execution_count": 25,
   "metadata": {},
   "outputs": [
    {
     "data": {
      "text/plain": [
       "array(['000', '780', 'allegiance', 'austwhim', 'bnr', 'carwin',\n",
       "       'colorants', 'creditgors', 'deviations', 'economics', 'exportable',\n",
       "       'francico', 'grutman', 'hubei', 'intrawest', 'lace',\n",
       "       'maintenenace', 'mississauga', 'nondilutive', 'pae', 'politeness',\n",
       "       'quietly', 'reproductive', 'sarvaas', 'sismik', 'stodgell',\n",
       "       'televison', 'tyranite', 'vontobel', 'zuyuan'], dtype=object)"
      ]
     },
     "execution_count": 25,
     "metadata": {},
     "output_type": "execute_result"
    }
   ],
   "source": [
    "# Get the terms\n",
    "feature_names = vectorizer.get_feature_names_out()\n",
    "\n",
    "# Show every thousandth term \n",
    "feature_names[::1000]"
   ]
  },
  {
   "cell_type": "code",
   "execution_count": 26,
   "metadata": {},
   "outputs": [
    {
     "data": {
      "text/plain": [
       "(10788, 29005)"
      ]
     },
     "execution_count": 26,
     "metadata": {},
     "output_type": "execute_result"
    }
   ],
   "source": [
    "no_of_docs, no_of_features = X.shape\n",
    "\n",
    "no_of_docs, no_of_features"
   ]
  },
  {
   "cell_type": "code",
   "execution_count": 27,
   "metadata": {},
   "outputs": [
    {
     "data": {
      "text/plain": [
       "'end'"
      ]
     },
     "execution_count": 27,
     "metadata": {},
     "output_type": "execute_result"
    }
   ],
   "source": [
    "feature_names[9340]"
   ]
  },
  {
   "cell_type": "markdown",
   "metadata": {},
   "source": [
    "## Train a Text Classifier"
   ]
  },
  {
   "cell_type": "markdown",
   "metadata": {},
   "source": [
    "First we prepare our training data and test data"
   ]
  },
  {
   "cell_type": "code",
   "execution_count": 28,
   "metadata": {},
   "outputs": [],
   "source": [
    "from sklearn.model_selection import train_test_split"
   ]
  },
  {
   "cell_type": "code",
   "execution_count": 29,
   "metadata": {},
   "outputs": [],
   "source": [
    "X_train, X_test, y_train, y_test = train_test_split(X,\n",
    "                                                    labels,\n",
    "                                                    test_size=0.3,\n",
    "                                                    random_state=42)"
   ]
  },
  {
   "cell_type": "markdown",
   "metadata": {},
   "source": [
    "Check how many labels in our training set"
   ]
  },
  {
   "cell_type": "code",
   "execution_count": 30,
   "metadata": {},
   "outputs": [
    {
     "data": {
      "text/plain": [
       "7551"
      ]
     },
     "execution_count": 30,
     "metadata": {},
     "output_type": "execute_result"
    }
   ],
   "source": [
    "len(y_train)"
   ]
  },
  {
   "cell_type": "markdown",
   "metadata": {},
   "source": [
    "We should have a corresponding number of rows and one feature per term in our X_train"
   ]
  },
  {
   "cell_type": "code",
   "execution_count": 31,
   "metadata": {},
   "outputs": [
    {
     "data": {
      "text/plain": [
       "(7551, 29005)"
      ]
     },
     "execution_count": 31,
     "metadata": {},
     "output_type": "execute_result"
    }
   ],
   "source": [
    "X_train.shape"
   ]
  },
  {
   "cell_type": "markdown",
   "metadata": {},
   "source": [
    "Here we train a Naive Bayes classifier, commonly used in text classification demos"
   ]
  },
  {
   "cell_type": "code",
   "execution_count": 32,
   "metadata": {},
   "outputs": [],
   "source": [
    "from sklearn.naive_bayes import MultinomialNB"
   ]
  },
  {
   "cell_type": "code",
   "execution_count": 33,
   "metadata": {},
   "outputs": [
    {
     "data": {
      "text/html": [
       "<style>#sk-container-id-1 {color: black;}#sk-container-id-1 pre{padding: 0;}#sk-container-id-1 div.sk-toggleable {background-color: white;}#sk-container-id-1 label.sk-toggleable__label {cursor: pointer;display: block;width: 100%;margin-bottom: 0;padding: 0.3em;box-sizing: border-box;text-align: center;}#sk-container-id-1 label.sk-toggleable__label-arrow:before {content: \"▸\";float: left;margin-right: 0.25em;color: #696969;}#sk-container-id-1 label.sk-toggleable__label-arrow:hover:before {color: black;}#sk-container-id-1 div.sk-estimator:hover label.sk-toggleable__label-arrow:before {color: black;}#sk-container-id-1 div.sk-toggleable__content {max-height: 0;max-width: 0;overflow: hidden;text-align: left;background-color: #f0f8ff;}#sk-container-id-1 div.sk-toggleable__content pre {margin: 0.2em;color: black;border-radius: 0.25em;background-color: #f0f8ff;}#sk-container-id-1 input.sk-toggleable__control:checked~div.sk-toggleable__content {max-height: 200px;max-width: 100%;overflow: auto;}#sk-container-id-1 input.sk-toggleable__control:checked~label.sk-toggleable__label-arrow:before {content: \"▾\";}#sk-container-id-1 div.sk-estimator input.sk-toggleable__control:checked~label.sk-toggleable__label {background-color: #d4ebff;}#sk-container-id-1 div.sk-label input.sk-toggleable__control:checked~label.sk-toggleable__label {background-color: #d4ebff;}#sk-container-id-1 input.sk-hidden--visually {border: 0;clip: rect(1px 1px 1px 1px);clip: rect(1px, 1px, 1px, 1px);height: 1px;margin: -1px;overflow: hidden;padding: 0;position: absolute;width: 1px;}#sk-container-id-1 div.sk-estimator {font-family: monospace;background-color: #f0f8ff;border: 1px dotted black;border-radius: 0.25em;box-sizing: border-box;margin-bottom: 0.5em;}#sk-container-id-1 div.sk-estimator:hover {background-color: #d4ebff;}#sk-container-id-1 div.sk-parallel-item::after {content: \"\";width: 100%;border-bottom: 1px solid gray;flex-grow: 1;}#sk-container-id-1 div.sk-label:hover label.sk-toggleable__label {background-color: #d4ebff;}#sk-container-id-1 div.sk-serial::before {content: \"\";position: absolute;border-left: 1px solid gray;box-sizing: border-box;top: 0;bottom: 0;left: 50%;z-index: 0;}#sk-container-id-1 div.sk-serial {display: flex;flex-direction: column;align-items: center;background-color: white;padding-right: 0.2em;padding-left: 0.2em;position: relative;}#sk-container-id-1 div.sk-item {position: relative;z-index: 1;}#sk-container-id-1 div.sk-parallel {display: flex;align-items: stretch;justify-content: center;background-color: white;position: relative;}#sk-container-id-1 div.sk-item::before, #sk-container-id-1 div.sk-parallel-item::before {content: \"\";position: absolute;border-left: 1px solid gray;box-sizing: border-box;top: 0;bottom: 0;left: 50%;z-index: -1;}#sk-container-id-1 div.sk-parallel-item {display: flex;flex-direction: column;z-index: 1;position: relative;background-color: white;}#sk-container-id-1 div.sk-parallel-item:first-child::after {align-self: flex-end;width: 50%;}#sk-container-id-1 div.sk-parallel-item:last-child::after {align-self: flex-start;width: 50%;}#sk-container-id-1 div.sk-parallel-item:only-child::after {width: 0;}#sk-container-id-1 div.sk-dashed-wrapped {border: 1px dashed gray;margin: 0 0.4em 0.5em 0.4em;box-sizing: border-box;padding-bottom: 0.4em;background-color: white;}#sk-container-id-1 div.sk-label label {font-family: monospace;font-weight: bold;display: inline-block;line-height: 1.2em;}#sk-container-id-1 div.sk-label-container {text-align: center;}#sk-container-id-1 div.sk-container {/* jupyter's `normalize.less` sets `[hidden] { display: none; }` but bootstrap.min.css set `[hidden] { display: none !important; }` so we also need the `!important` here to be able to override the default hidden behavior on the sphinx rendered scikit-learn.org. See: https://github.com/scikit-learn/scikit-learn/issues/21755 */display: inline-block !important;position: relative;}#sk-container-id-1 div.sk-text-repr-fallback {display: none;}</style><div id=\"sk-container-id-1\" class=\"sk-top-container\"><div class=\"sk-text-repr-fallback\"><pre>MultinomialNB()</pre><b>In a Jupyter environment, please rerun this cell to show the HTML representation or trust the notebook. <br />On GitHub, the HTML representation is unable to render, please try loading this page with nbviewer.org.</b></div><div class=\"sk-container\" hidden><div class=\"sk-item\"><div class=\"sk-estimator sk-toggleable\"><input class=\"sk-toggleable__control sk-hidden--visually\" id=\"sk-estimator-id-1\" type=\"checkbox\" checked><label for=\"sk-estimator-id-1\" class=\"sk-toggleable__label sk-toggleable__label-arrow\">MultinomialNB</label><div class=\"sk-toggleable__content\"><pre>MultinomialNB()</pre></div></div></div></div></div>"
      ],
      "text/plain": [
       "MultinomialNB()"
      ]
     },
     "execution_count": 33,
     "metadata": {},
     "output_type": "execute_result"
    }
   ],
   "source": [
    "nb_classifier = MultinomialNB()\n",
    "nb_classifier.fit(X_train, y_train)"
   ]
  },
  {
   "cell_type": "markdown",
   "metadata": {},
   "source": [
    "## Test the Naive Bayes Classifier"
   ]
  },
  {
   "cell_type": "code",
   "execution_count": 34,
   "metadata": {},
   "outputs": [],
   "source": [
    "from sklearn.metrics import accuracy_score, classification_report"
   ]
  },
  {
   "cell_type": "code",
   "execution_count": 35,
   "metadata": {},
   "outputs": [
    {
     "name": "stdout",
     "output_type": "stream",
     "text": [
      "Accuracy: 0.6515291936978684\n",
      "Classification Report:\n",
      "                 precision    recall  f1-score   support\n",
      "\n",
      "            acq       0.56      0.94      0.71       711\n",
      "           alum       0.00      0.00      0.00        14\n",
      "         barley       0.00      0.00      0.00        10\n",
      "            bop       0.00      0.00      0.00        35\n",
      "        carcass       0.00      0.00      0.00        18\n",
      "     castor-oil       0.00      0.00      0.00         2\n",
      "          cocoa       0.00      0.00      0.00        24\n",
      "    coconut-oil       0.00      0.00      0.00         1\n",
      "         coffee       1.00      0.03      0.05        39\n",
      "         copper       0.00      0.00      0.00        19\n",
      "           corn       1.00      0.16      0.28        75\n",
      "         cotton       0.00      0.00      0.00        12\n",
      "            cpi       0.00      0.00      0.00        31\n",
      "            cpu       0.00      0.00      0.00         2\n",
      "          crude       0.94      0.68      0.79       149\n",
      "            dfl       0.00      0.00      0.00         1\n",
      "            dlr       1.00      0.17      0.29        47\n",
      "           earn       0.67      0.98      0.80      1160\n",
      "           fuel       0.00      0.00      0.00         2\n",
      "            gas       0.00      0.00      0.00         5\n",
      "            gnp       0.00      0.00      0.00        35\n",
      "           gold       0.00      0.00      0.00        41\n",
      "          grain       0.81      0.22      0.35        94\n",
      "      groundnut       0.00      0.00      0.00         1\n",
      "           heat       0.00      0.00      0.00         5\n",
      "            hog       0.00      0.00      0.00         6\n",
      "        housing       0.00      0.00      0.00         5\n",
      "         income       0.00      0.00      0.00         4\n",
      "    instal-debt       0.00      0.00      0.00         1\n",
      "       interest       0.84      0.52      0.64       158\n",
      "            ipi       0.00      0.00      0.00        10\n",
      "     iron-steel       0.00      0.00      0.00         5\n",
      "            jet       0.00      0.00      0.00         2\n",
      "           jobs       0.00      0.00      0.00        14\n",
      "           lead       0.00      0.00      0.00         5\n",
      "            lei       0.00      0.00      0.00         1\n",
      "      livestock       0.00      0.00      0.00         5\n",
      "         lumber       0.00      0.00      0.00         3\n",
      "      meal-feed       0.00      0.00      0.00         7\n",
      "       money-fx       0.55      0.38      0.45        92\n",
      "   money-supply       0.00      0.00      0.00        43\n",
      "        nat-gas       0.00      0.00      0.00        15\n",
      "         nickel       0.00      0.00      0.00         1\n",
      "          nzdlr       0.00      0.00      0.00         1\n",
      "        oilseed       0.00      0.00      0.00        12\n",
      "         orange       0.00      0.00      0.00         9\n",
      "       palm-oil       0.00      0.00      0.00        10\n",
      "       pet-chem       0.00      0.00      0.00         7\n",
      "       platinum       0.00      0.00      0.00         2\n",
      "         potato       0.00      0.00      0.00         1\n",
      "           rand       0.00      0.00      0.00         1\n",
      "       reserves       0.00      0.00      0.00        18\n",
      "         retail       0.00      0.00      0.00         6\n",
      "         rubber       0.00      0.00      0.00        17\n",
      "           ship       0.00      0.00      0.00        47\n",
      "         silver       0.00      0.00      0.00         1\n",
      "        soy-oil       0.00      0.00      0.00         2\n",
      "        soybean       0.00      0.00      0.00         1\n",
      "strategic-metal       0.00      0.00      0.00         5\n",
      "          sugar       1.00      0.03      0.05        39\n",
      "        sun-oil       0.00      0.00      0.00         1\n",
      "            tea       0.00      0.00      0.00         1\n",
      "            tin       0.00      0.00      0.00        11\n",
      "          trade       0.95      0.38      0.54       104\n",
      "        veg-oil       0.00      0.00      0.00        14\n",
      "            wpi       0.00      0.00      0.00         9\n",
      "            yen       0.00      0.00      0.00         3\n",
      "           zinc       0.00      0.00      0.00         5\n",
      "\n",
      "       accuracy                           0.65      3237\n",
      "      macro avg       0.14      0.07      0.07      3237\n",
      "   weighted avg       0.58      0.65      0.56      3237\n",
      "\n"
     ]
    },
    {
     "name": "stderr",
     "output_type": "stream",
     "text": [
      "c:\\Users\\jmmck\\anaconda3\\envs\\AI-ML-Bootcamp\\lib\\site-packages\\sklearn\\metrics\\_classification.py:1469: UndefinedMetricWarning: Precision and F-score are ill-defined and being set to 0.0 in labels with no predicted samples. Use `zero_division` parameter to control this behavior.\n",
      "  _warn_prf(average, modifier, msg_start, len(result))\n",
      "c:\\Users\\jmmck\\anaconda3\\envs\\AI-ML-Bootcamp\\lib\\site-packages\\sklearn\\metrics\\_classification.py:1469: UndefinedMetricWarning: Precision and F-score are ill-defined and being set to 0.0 in labels with no predicted samples. Use `zero_division` parameter to control this behavior.\n",
      "  _warn_prf(average, modifier, msg_start, len(result))\n",
      "c:\\Users\\jmmck\\anaconda3\\envs\\AI-ML-Bootcamp\\lib\\site-packages\\sklearn\\metrics\\_classification.py:1469: UndefinedMetricWarning: Precision and F-score are ill-defined and being set to 0.0 in labels with no predicted samples. Use `zero_division` parameter to control this behavior.\n",
      "  _warn_prf(average, modifier, msg_start, len(result))\n"
     ]
    }
   ],
   "source": [
    "y_pred = nb_classifier.predict(X_test)\n",
    "print(\"Accuracy:\", accuracy_score(y_test, y_pred))\n",
    "print(\"Classification Report:\")\n",
    "print(classification_report(y_test, y_pred))"
   ]
  },
  {
   "cell_type": "markdown",
   "metadata": {},
   "source": [
    "### Precision\n",
    "Precision is the ratio of correctly predicted positive observations to the total predicted positives.\n",
    "\n",
    "Formula: Precision = TP / (TP + FP)\n",
    "\n",
    "- TP (True Positives): The number of correct positive predictions.\n",
    "- FP (False Positives): The number of incorrect positive predictions.\n",
    "\n",
    "​Precision answers the question, \"Of all the documents that were classified as a particular category, how many were actually in that category?\" High precision indicates a low false positive rate.\n",
    "\n",
    "### Recall\n",
    "Recall (or sensitivity) is the ratio of correctly predicted positive observations to all observations in the actual class.\n",
    "\n",
    "Formula: Recall = TP / (TP + FN) \n",
    "\n",
    "- TP (True Positives): The number of correct positive predictions.\n",
    "- FN (False Negatives): The number of actual positives that were not correctly identified.\n",
    "\n",
    "Recall answers the question, \"Of all the documents that actually belong to a particular category, how many were correctly identified as such?\" High recall indicates a low false negative rate.\n",
    "\n",
    "### F1-Score\n",
    "The F1-score is the harmonic mean of precision and recall. It provides a single metric that balances both concerns.\n",
    "\n",
    "Formula: F1-score = 2 × [ Precision × Recall / (Precision + Recall) ]\n",
    "\n",
    "The F1-score is useful when you need a balance between precision and recall. It is especially important when you have an uneven class distribution. It also possible to weight precision or recall more heavily than the other if you have a preference. E.g., in most web searches you might weight precision more highly if you're satisfied with a single documment that answers your question. When searching for legal precedents, you might value recall more highly because you don't want to miss something that could be relevant to a case. The Wikipedia article gives more details on how to modify the formula: https://en.wikipedia.org/wiki/Precision_and_recall \n",
    "\n",
    "### Support\n",
    "Support is the number of documents in the corresponding class. It is useful for understanding the context of these metrics."
   ]
  },
  {
   "cell_type": "markdown",
   "metadata": {},
   "source": [
    "## Training a Support Vector Machine (SVM) Classifier\n",
    "SVMs generally perform very well for text categorization with TF-IDF vectors."
   ]
  },
  {
   "cell_type": "code",
   "execution_count": 36,
   "metadata": {},
   "outputs": [],
   "source": [
    "from sklearn.svm import SVC"
   ]
  },
  {
   "cell_type": "code",
   "execution_count": 37,
   "metadata": {},
   "outputs": [
    {
     "data": {
      "text/html": [
       "<style>#sk-container-id-2 {color: black;}#sk-container-id-2 pre{padding: 0;}#sk-container-id-2 div.sk-toggleable {background-color: white;}#sk-container-id-2 label.sk-toggleable__label {cursor: pointer;display: block;width: 100%;margin-bottom: 0;padding: 0.3em;box-sizing: border-box;text-align: center;}#sk-container-id-2 label.sk-toggleable__label-arrow:before {content: \"▸\";float: left;margin-right: 0.25em;color: #696969;}#sk-container-id-2 label.sk-toggleable__label-arrow:hover:before {color: black;}#sk-container-id-2 div.sk-estimator:hover label.sk-toggleable__label-arrow:before {color: black;}#sk-container-id-2 div.sk-toggleable__content {max-height: 0;max-width: 0;overflow: hidden;text-align: left;background-color: #f0f8ff;}#sk-container-id-2 div.sk-toggleable__content pre {margin: 0.2em;color: black;border-radius: 0.25em;background-color: #f0f8ff;}#sk-container-id-2 input.sk-toggleable__control:checked~div.sk-toggleable__content {max-height: 200px;max-width: 100%;overflow: auto;}#sk-container-id-2 input.sk-toggleable__control:checked~label.sk-toggleable__label-arrow:before {content: \"▾\";}#sk-container-id-2 div.sk-estimator input.sk-toggleable__control:checked~label.sk-toggleable__label {background-color: #d4ebff;}#sk-container-id-2 div.sk-label input.sk-toggleable__control:checked~label.sk-toggleable__label {background-color: #d4ebff;}#sk-container-id-2 input.sk-hidden--visually {border: 0;clip: rect(1px 1px 1px 1px);clip: rect(1px, 1px, 1px, 1px);height: 1px;margin: -1px;overflow: hidden;padding: 0;position: absolute;width: 1px;}#sk-container-id-2 div.sk-estimator {font-family: monospace;background-color: #f0f8ff;border: 1px dotted black;border-radius: 0.25em;box-sizing: border-box;margin-bottom: 0.5em;}#sk-container-id-2 div.sk-estimator:hover {background-color: #d4ebff;}#sk-container-id-2 div.sk-parallel-item::after {content: \"\";width: 100%;border-bottom: 1px solid gray;flex-grow: 1;}#sk-container-id-2 div.sk-label:hover label.sk-toggleable__label {background-color: #d4ebff;}#sk-container-id-2 div.sk-serial::before {content: \"\";position: absolute;border-left: 1px solid gray;box-sizing: border-box;top: 0;bottom: 0;left: 50%;z-index: 0;}#sk-container-id-2 div.sk-serial {display: flex;flex-direction: column;align-items: center;background-color: white;padding-right: 0.2em;padding-left: 0.2em;position: relative;}#sk-container-id-2 div.sk-item {position: relative;z-index: 1;}#sk-container-id-2 div.sk-parallel {display: flex;align-items: stretch;justify-content: center;background-color: white;position: relative;}#sk-container-id-2 div.sk-item::before, #sk-container-id-2 div.sk-parallel-item::before {content: \"\";position: absolute;border-left: 1px solid gray;box-sizing: border-box;top: 0;bottom: 0;left: 50%;z-index: -1;}#sk-container-id-2 div.sk-parallel-item {display: flex;flex-direction: column;z-index: 1;position: relative;background-color: white;}#sk-container-id-2 div.sk-parallel-item:first-child::after {align-self: flex-end;width: 50%;}#sk-container-id-2 div.sk-parallel-item:last-child::after {align-self: flex-start;width: 50%;}#sk-container-id-2 div.sk-parallel-item:only-child::after {width: 0;}#sk-container-id-2 div.sk-dashed-wrapped {border: 1px dashed gray;margin: 0 0.4em 0.5em 0.4em;box-sizing: border-box;padding-bottom: 0.4em;background-color: white;}#sk-container-id-2 div.sk-label label {font-family: monospace;font-weight: bold;display: inline-block;line-height: 1.2em;}#sk-container-id-2 div.sk-label-container {text-align: center;}#sk-container-id-2 div.sk-container {/* jupyter's `normalize.less` sets `[hidden] { display: none; }` but bootstrap.min.css set `[hidden] { display: none !important; }` so we also need the `!important` here to be able to override the default hidden behavior on the sphinx rendered scikit-learn.org. See: https://github.com/scikit-learn/scikit-learn/issues/21755 */display: inline-block !important;position: relative;}#sk-container-id-2 div.sk-text-repr-fallback {display: none;}</style><div id=\"sk-container-id-2\" class=\"sk-top-container\"><div class=\"sk-text-repr-fallback\"><pre>SVC()</pre><b>In a Jupyter environment, please rerun this cell to show the HTML representation or trust the notebook. <br />On GitHub, the HTML representation is unable to render, please try loading this page with nbviewer.org.</b></div><div class=\"sk-container\" hidden><div class=\"sk-item\"><div class=\"sk-estimator sk-toggleable\"><input class=\"sk-toggleable__control sk-hidden--visually\" id=\"sk-estimator-id-2\" type=\"checkbox\" checked><label for=\"sk-estimator-id-2\" class=\"sk-toggleable__label sk-toggleable__label-arrow\">SVC</label><div class=\"sk-toggleable__content\"><pre>SVC()</pre></div></div></div></div></div>"
      ],
      "text/plain": [
       "SVC()"
      ]
     },
     "execution_count": 37,
     "metadata": {},
     "output_type": "execute_result"
    }
   ],
   "source": [
    "svm_classifier = SVC()\n",
    "svm_classifier.fit(X_train, y_train)"
   ]
  },
  {
   "cell_type": "markdown",
   "metadata": {},
   "source": [
    "## Test the SVM classifier"
   ]
  },
  {
   "cell_type": "code",
   "execution_count": 38,
   "metadata": {},
   "outputs": [
    {
     "name": "stdout",
     "output_type": "stream",
     "text": [
      "Support Vector Machine Classifier\n",
      "Accuracy: 0.8551127587272166\n",
      "Classification Report:\n",
      "                 precision    recall  f1-score   support\n",
      "\n",
      "            acq       0.76      0.98      0.85       711\n",
      "           alum       1.00      0.36      0.53        14\n",
      "         barley       0.80      0.80      0.80        10\n",
      "            bop       0.83      0.57      0.68        35\n",
      "        carcass       1.00      0.39      0.56        18\n",
      "     castor-oil       0.00      0.00      0.00         2\n",
      "          cocoa       0.96      0.92      0.94        24\n",
      "    coconut-oil       0.00      0.00      0.00         1\n",
      "         coffee       0.97      0.87      0.92        39\n",
      "         copper       1.00      0.74      0.85        19\n",
      "           corn       0.96      0.64      0.77        75\n",
      "         cotton       1.00      0.67      0.80        12\n",
      "            cpi       0.67      0.58      0.62        31\n",
      "            cpu       0.00      0.00      0.00         2\n",
      "          crude       0.80      0.90      0.85       149\n",
      "            dfl       0.00      0.00      0.00         1\n",
      "            dlr       0.89      0.83      0.86        47\n",
      "           earn       0.96      0.97      0.97      1160\n",
      "           fuel       0.50      0.50      0.50         2\n",
      "            gas       1.00      0.40      0.57         5\n",
      "            gnp       0.70      0.80      0.75        35\n",
      "           gold       0.94      0.73      0.82        41\n",
      "          grain       0.70      0.81      0.75        94\n",
      "      groundnut       0.00      0.00      0.00         1\n",
      "           heat       1.00      0.60      0.75         5\n",
      "            hog       1.00      0.67      0.80         6\n",
      "        housing       1.00      0.60      0.75         5\n",
      "         income       0.00      0.00      0.00         4\n",
      "    instal-debt       0.00      0.00      0.00         1\n",
      "       interest       0.81      0.84      0.83       158\n",
      "            ipi       0.88      0.70      0.78        10\n",
      "     iron-steel       1.00      0.80      0.89         5\n",
      "            jet       0.00      0.00      0.00         2\n",
      "           jobs       1.00      0.93      0.96        14\n",
      "           lead       1.00      0.40      0.57         5\n",
      "            lei       0.00      0.00      0.00         1\n",
      "      livestock       1.00      0.20      0.33         5\n",
      "         lumber       0.00      0.00      0.00         3\n",
      "      meal-feed       0.00      0.00      0.00         7\n",
      "       money-fx       0.66      0.62      0.64        92\n",
      "   money-supply       0.90      0.86      0.88        43\n",
      "        nat-gas       1.00      0.07      0.12        15\n",
      "         nickel       0.00      0.00      0.00         1\n",
      "          nzdlr       0.00      0.00      0.00         1\n",
      "        oilseed       0.67      0.33      0.44        12\n",
      "         orange       1.00      0.33      0.50         9\n",
      "       palm-oil       0.83      0.50      0.62        10\n",
      "       pet-chem       0.00      0.00      0.00         7\n",
      "       platinum       0.00      0.00      0.00         2\n",
      "         potato       0.00      0.00      0.00         1\n",
      "           rand       0.00      0.00      0.00         1\n",
      "       reserves       1.00      0.78      0.88        18\n",
      "         retail       1.00      0.17      0.29         6\n",
      "         rubber       1.00      0.71      0.83        17\n",
      "           ship       0.73      0.34      0.46        47\n",
      "         silver       0.00      0.00      0.00         1\n",
      "        soy-oil       0.00      0.00      0.00         2\n",
      "        soybean       0.00      0.00      0.00         1\n",
      "strategic-metal       0.00      0.00      0.00         5\n",
      "          sugar       0.95      0.90      0.92        39\n",
      "        sun-oil       0.00      0.00      0.00         1\n",
      "            tea       0.00      0.00      0.00         1\n",
      "            tin       1.00      0.36      0.53        11\n",
      "          trade       0.81      0.84      0.82       104\n",
      "        veg-oil       1.00      0.14      0.25        14\n",
      "            wpi       1.00      0.44      0.62         9\n",
      "            yen       1.00      0.33      0.50         3\n",
      "           zinc       0.00      0.00      0.00         5\n",
      "\n",
      "       accuracy                           0.86      3237\n",
      "      macro avg       0.58      0.40      0.45      3237\n",
      "   weighted avg       0.85      0.86      0.84      3237\n",
      "\n"
     ]
    },
    {
     "name": "stderr",
     "output_type": "stream",
     "text": [
      "c:\\Users\\jmmck\\anaconda3\\envs\\AI-ML-Bootcamp\\lib\\site-packages\\sklearn\\metrics\\_classification.py:1469: UndefinedMetricWarning: Precision and F-score are ill-defined and being set to 0.0 in labels with no predicted samples. Use `zero_division` parameter to control this behavior.\n",
      "  _warn_prf(average, modifier, msg_start, len(result))\n",
      "c:\\Users\\jmmck\\anaconda3\\envs\\AI-ML-Bootcamp\\lib\\site-packages\\sklearn\\metrics\\_classification.py:1469: UndefinedMetricWarning: Precision and F-score are ill-defined and being set to 0.0 in labels with no predicted samples. Use `zero_division` parameter to control this behavior.\n",
      "  _warn_prf(average, modifier, msg_start, len(result))\n",
      "c:\\Users\\jmmck\\anaconda3\\envs\\AI-ML-Bootcamp\\lib\\site-packages\\sklearn\\metrics\\_classification.py:1469: UndefinedMetricWarning: Precision and F-score are ill-defined and being set to 0.0 in labels with no predicted samples. Use `zero_division` parameter to control this behavior.\n",
      "  _warn_prf(average, modifier, msg_start, len(result))\n"
     ]
    }
   ],
   "source": [
    "svm_y_pred = svm_classifier.predict(X_test)\n",
    "print(\"Support Vector Machine Classifier\")\n",
    "print(\"Accuracy:\", accuracy_score(y_test, svm_y_pred))\n",
    "print(\"Classification Report:\")\n",
    "print(classification_report(y_test, svm_y_pred))"
   ]
  },
  {
   "cell_type": "markdown",
   "metadata": {},
   "source": [
    "## Dimensionality Reduction\n",
    "Dimensionality reduction is the process of reducing the number of random variables (our Xs) under consideration. It can simplify the dataset without losing significant information, making it easier to visualize and process. It can also improve classification accuracy."
   ]
  },
  {
   "cell_type": "markdown",
   "metadata": {},
   "source": [
    "For this example we will use Singular Value Decomposition (SVD). This article is accessible and helpful for getting an understanding SVD: \n",
    "https://www.ibm.com/think/topics/latent-semantic-analysis\n"
   ]
  },
  {
   "cell_type": "code",
   "execution_count": 39,
   "metadata": {},
   "outputs": [],
   "source": [
    "from sklearn.decomposition import TruncatedSVD"
   ]
  },
  {
   "cell_type": "code",
   "execution_count": 40,
   "metadata": {},
   "outputs": [],
   "source": [
    "svd = TruncatedSVD(\n",
    "    n_components=100,   # Reduce from 29005 to 100 dimensions\n",
    "    random_state=42,\n",
    "    )\n",
    "X_train_svd = svd.fit_transform(X_train)\n",
    "X_test_svd = svd.transform(X_test)"
   ]
  },
  {
   "cell_type": "markdown",
   "metadata": {},
   "source": [
    "Let's check that we do indeed now have 100 dimensions."
   ]
  },
  {
   "cell_type": "code",
   "execution_count": 41,
   "metadata": {},
   "outputs": [
    {
     "data": {
      "text/plain": [
       "(7551, 100)"
      ]
     },
     "execution_count": 41,
     "metadata": {},
     "output_type": "execute_result"
    }
   ],
   "source": [
    "X_train_svd.shape"
   ]
  },
  {
   "cell_type": "markdown",
   "metadata": {},
   "source": [
    "Notice that our matrix is no longer sparse."
   ]
  },
  {
   "cell_type": "code",
   "execution_count": 42,
   "metadata": {},
   "outputs": [
    {
     "data": {
      "text/plain": [
       "array([[ 0.67806974,  0.02432633, -0.02251423, ...,  0.01060339,\n",
       "         0.02315345,  0.03586412],\n",
       "       [ 0.05192186,  0.10304451, -0.02740342, ...,  0.02748742,\n",
       "         0.00345382,  0.00492096],\n",
       "       [ 0.07864823,  0.18252418,  0.03384635, ...,  0.00786786,\n",
       "        -0.03558759,  0.00690717],\n",
       "       ...,\n",
       "       [ 0.03836258,  0.13571073,  0.00310563, ..., -0.01434863,\n",
       "        -0.04980156, -0.03575645],\n",
       "       [ 0.55845782, -0.06946017,  0.05781887, ...,  0.00082942,\n",
       "        -0.00660612,  0.01066955],\n",
       "       [ 0.70015608, -0.14172507, -0.0585036 , ...,  0.01295006,\n",
       "         0.03712283,  0.0166316 ]])"
      ]
     },
     "execution_count": 42,
     "metadata": {},
     "output_type": "execute_result"
    }
   ],
   "source": [
    "X_train_svd"
   ]
  },
  {
   "cell_type": "markdown",
   "metadata": {},
   "source": [
    "We'll now train a new support vector machine (SVM) classifier with our dataset reduced using singular value decomposition (SVD)."
   ]
  },
  {
   "cell_type": "code",
   "execution_count": 43,
   "metadata": {},
   "outputs": [
    {
     "data": {
      "text/html": [
       "<style>#sk-container-id-3 {color: black;}#sk-container-id-3 pre{padding: 0;}#sk-container-id-3 div.sk-toggleable {background-color: white;}#sk-container-id-3 label.sk-toggleable__label {cursor: pointer;display: block;width: 100%;margin-bottom: 0;padding: 0.3em;box-sizing: border-box;text-align: center;}#sk-container-id-3 label.sk-toggleable__label-arrow:before {content: \"▸\";float: left;margin-right: 0.25em;color: #696969;}#sk-container-id-3 label.sk-toggleable__label-arrow:hover:before {color: black;}#sk-container-id-3 div.sk-estimator:hover label.sk-toggleable__label-arrow:before {color: black;}#sk-container-id-3 div.sk-toggleable__content {max-height: 0;max-width: 0;overflow: hidden;text-align: left;background-color: #f0f8ff;}#sk-container-id-3 div.sk-toggleable__content pre {margin: 0.2em;color: black;border-radius: 0.25em;background-color: #f0f8ff;}#sk-container-id-3 input.sk-toggleable__control:checked~div.sk-toggleable__content {max-height: 200px;max-width: 100%;overflow: auto;}#sk-container-id-3 input.sk-toggleable__control:checked~label.sk-toggleable__label-arrow:before {content: \"▾\";}#sk-container-id-3 div.sk-estimator input.sk-toggleable__control:checked~label.sk-toggleable__label {background-color: #d4ebff;}#sk-container-id-3 div.sk-label input.sk-toggleable__control:checked~label.sk-toggleable__label {background-color: #d4ebff;}#sk-container-id-3 input.sk-hidden--visually {border: 0;clip: rect(1px 1px 1px 1px);clip: rect(1px, 1px, 1px, 1px);height: 1px;margin: -1px;overflow: hidden;padding: 0;position: absolute;width: 1px;}#sk-container-id-3 div.sk-estimator {font-family: monospace;background-color: #f0f8ff;border: 1px dotted black;border-radius: 0.25em;box-sizing: border-box;margin-bottom: 0.5em;}#sk-container-id-3 div.sk-estimator:hover {background-color: #d4ebff;}#sk-container-id-3 div.sk-parallel-item::after {content: \"\";width: 100%;border-bottom: 1px solid gray;flex-grow: 1;}#sk-container-id-3 div.sk-label:hover label.sk-toggleable__label {background-color: #d4ebff;}#sk-container-id-3 div.sk-serial::before {content: \"\";position: absolute;border-left: 1px solid gray;box-sizing: border-box;top: 0;bottom: 0;left: 50%;z-index: 0;}#sk-container-id-3 div.sk-serial {display: flex;flex-direction: column;align-items: center;background-color: white;padding-right: 0.2em;padding-left: 0.2em;position: relative;}#sk-container-id-3 div.sk-item {position: relative;z-index: 1;}#sk-container-id-3 div.sk-parallel {display: flex;align-items: stretch;justify-content: center;background-color: white;position: relative;}#sk-container-id-3 div.sk-item::before, #sk-container-id-3 div.sk-parallel-item::before {content: \"\";position: absolute;border-left: 1px solid gray;box-sizing: border-box;top: 0;bottom: 0;left: 50%;z-index: -1;}#sk-container-id-3 div.sk-parallel-item {display: flex;flex-direction: column;z-index: 1;position: relative;background-color: white;}#sk-container-id-3 div.sk-parallel-item:first-child::after {align-self: flex-end;width: 50%;}#sk-container-id-3 div.sk-parallel-item:last-child::after {align-self: flex-start;width: 50%;}#sk-container-id-3 div.sk-parallel-item:only-child::after {width: 0;}#sk-container-id-3 div.sk-dashed-wrapped {border: 1px dashed gray;margin: 0 0.4em 0.5em 0.4em;box-sizing: border-box;padding-bottom: 0.4em;background-color: white;}#sk-container-id-3 div.sk-label label {font-family: monospace;font-weight: bold;display: inline-block;line-height: 1.2em;}#sk-container-id-3 div.sk-label-container {text-align: center;}#sk-container-id-3 div.sk-container {/* jupyter's `normalize.less` sets `[hidden] { display: none; }` but bootstrap.min.css set `[hidden] { display: none !important; }` so we also need the `!important` here to be able to override the default hidden behavior on the sphinx rendered scikit-learn.org. See: https://github.com/scikit-learn/scikit-learn/issues/21755 */display: inline-block !important;position: relative;}#sk-container-id-3 div.sk-text-repr-fallback {display: none;}</style><div id=\"sk-container-id-3\" class=\"sk-top-container\"><div class=\"sk-text-repr-fallback\"><pre>SVC()</pre><b>In a Jupyter environment, please rerun this cell to show the HTML representation or trust the notebook. <br />On GitHub, the HTML representation is unable to render, please try loading this page with nbviewer.org.</b></div><div class=\"sk-container\" hidden><div class=\"sk-item\"><div class=\"sk-estimator sk-toggleable\"><input class=\"sk-toggleable__control sk-hidden--visually\" id=\"sk-estimator-id-3\" type=\"checkbox\" checked><label for=\"sk-estimator-id-3\" class=\"sk-toggleable__label sk-toggleable__label-arrow\">SVC</label><div class=\"sk-toggleable__content\"><pre>SVC()</pre></div></div></div></div></div>"
      ],
      "text/plain": [
       "SVC()"
      ]
     },
     "execution_count": 43,
     "metadata": {},
     "output_type": "execute_result"
    }
   ],
   "source": [
    "svm_classifier_svd = SVC()\n",
    "svm_classifier_svd.fit(X_train_svd, y_train)"
   ]
  },
  {
   "cell_type": "markdown",
   "metadata": {},
   "source": [
    "Finally, let's evaluate our new classifier."
   ]
  },
  {
   "cell_type": "code",
   "execution_count": 44,
   "metadata": {},
   "outputs": [
    {
     "name": "stdout",
     "output_type": "stream",
     "text": [
      "Support Vector Machine Classifier with SVD\n",
      "Accuracy: 0.8640716713005869\n",
      "Classification Report:\n",
      "                 precision    recall  f1-score   support\n",
      "\n",
      "            acq       0.88      0.97      0.92       711\n",
      "           alum       0.33      0.36      0.34        14\n",
      "         barley       0.64      0.70      0.67        10\n",
      "            bop       0.69      0.57      0.62        35\n",
      "        carcass       0.60      0.33      0.43        18\n",
      "     castor-oil       0.00      0.00      0.00         2\n",
      "          cocoa       0.92      1.00      0.96        24\n",
      "    coconut-oil       0.00      0.00      0.00         1\n",
      "         coffee       0.90      0.90      0.90        39\n",
      "         copper       0.79      0.79      0.79        19\n",
      "           corn       0.89      0.65      0.75        75\n",
      "         cotton       1.00      0.50      0.67        12\n",
      "            cpi       0.53      0.65      0.58        31\n",
      "            cpu       0.00      0.00      0.00         2\n",
      "          crude       0.78      0.92      0.85       149\n",
      "            dfl       0.00      0.00      0.00         1\n",
      "            dlr       0.83      0.81      0.82        47\n",
      "           earn       0.98      0.97      0.98      1160\n",
      "           fuel       0.50      0.50      0.50         2\n",
      "            gas       0.00      0.00      0.00         5\n",
      "            gnp       0.62      0.80      0.70        35\n",
      "           gold       0.88      0.93      0.90        41\n",
      "          grain       0.56      0.89      0.69        94\n",
      "      groundnut       0.00      0.00      0.00         1\n",
      "           heat       1.00      0.20      0.33         5\n",
      "            hog       1.00      0.67      0.80         6\n",
      "        housing       1.00      0.60      0.75         5\n",
      "         income       0.00      0.00      0.00         4\n",
      "    instal-debt       0.00      0.00      0.00         1\n",
      "       interest       0.82      0.87      0.84       158\n",
      "            ipi       0.80      0.80      0.80        10\n",
      "     iron-steel       1.00      1.00      1.00         5\n",
      "            jet       0.00      0.00      0.00         2\n",
      "           jobs       1.00      0.93      0.96        14\n",
      "           lead       1.00      0.20      0.33         5\n",
      "            lei       0.33      1.00      0.50         1\n",
      "      livestock       1.00      0.20      0.33         5\n",
      "         lumber       0.00      0.00      0.00         3\n",
      "      meal-feed       0.00      0.00      0.00         7\n",
      "       money-fx       0.63      0.64      0.63        92\n",
      "   money-supply       0.90      0.86      0.88        43\n",
      "        nat-gas       0.88      0.47      0.61        15\n",
      "         nickel       0.00      0.00      0.00         1\n",
      "          nzdlr       0.00      0.00      0.00         1\n",
      "        oilseed       0.60      0.25      0.35        12\n",
      "         orange       0.00      0.00      0.00         9\n",
      "       palm-oil       0.75      0.60      0.67        10\n",
      "       pet-chem       0.00      0.00      0.00         7\n",
      "       platinum       0.00      0.00      0.00         2\n",
      "         potato       0.00      0.00      0.00         1\n",
      "           rand       0.00      0.00      0.00         1\n",
      "       reserves       1.00      0.89      0.94        18\n",
      "         retail       0.00      0.00      0.00         6\n",
      "         rubber       1.00      0.53      0.69        17\n",
      "           ship       0.57      0.57      0.57        47\n",
      "         silver       0.00      0.00      0.00         1\n",
      "        soy-oil       0.00      0.00      0.00         2\n",
      "        soybean       0.00      0.00      0.00         1\n",
      "strategic-metal       0.00      0.00      0.00         5\n",
      "          sugar       0.90      0.95      0.92        39\n",
      "        sun-oil       0.00      0.00      0.00         1\n",
      "            tea       0.00      0.00      0.00         1\n",
      "            tin       1.00      0.09      0.17        11\n",
      "          trade       0.81      0.85      0.83       104\n",
      "        veg-oil       0.75      0.43      0.55        14\n",
      "            wpi       0.00      0.00      0.00         9\n",
      "            yen       0.00      0.00      0.00         3\n",
      "           zinc       0.00      0.00      0.00         5\n",
      "\n",
      "       accuracy                           0.86      3237\n",
      "      macro avg       0.47      0.39      0.40      3237\n",
      "   weighted avg       0.85      0.86      0.85      3237\n",
      "\n"
     ]
    },
    {
     "name": "stderr",
     "output_type": "stream",
     "text": [
      "c:\\Users\\jmmck\\anaconda3\\envs\\AI-ML-Bootcamp\\lib\\site-packages\\sklearn\\metrics\\_classification.py:1469: UndefinedMetricWarning: Precision and F-score are ill-defined and being set to 0.0 in labels with no predicted samples. Use `zero_division` parameter to control this behavior.\n",
      "  _warn_prf(average, modifier, msg_start, len(result))\n",
      "c:\\Users\\jmmck\\anaconda3\\envs\\AI-ML-Bootcamp\\lib\\site-packages\\sklearn\\metrics\\_classification.py:1469: UndefinedMetricWarning: Precision and F-score are ill-defined and being set to 0.0 in labels with no predicted samples. Use `zero_division` parameter to control this behavior.\n",
      "  _warn_prf(average, modifier, msg_start, len(result))\n",
      "c:\\Users\\jmmck\\anaconda3\\envs\\AI-ML-Bootcamp\\lib\\site-packages\\sklearn\\metrics\\_classification.py:1469: UndefinedMetricWarning: Precision and F-score are ill-defined and being set to 0.0 in labels with no predicted samples. Use `zero_division` parameter to control this behavior.\n",
      "  _warn_prf(average, modifier, msg_start, len(result))\n"
     ]
    }
   ],
   "source": [
    "svm_y_pred_svd = svm_classifier_svd.predict(X_test_svd)\n",
    "print(\"Support Vector Machine Classifier with SVD\")\n",
    "print(\"Accuracy:\", accuracy_score(y_test, svm_y_pred_svd))\n",
    "print(\"Classification Report:\")\n",
    "print(classification_report(y_test, svm_y_pred_svd))"
   ]
  },
  {
   "cell_type": "markdown",
   "metadata": {},
   "source": [
    "As well as being much faster, we also see a marginal improvement in accuracy."
   ]
  },
  {
   "cell_type": "markdown",
   "metadata": {},
   "source": [
    "To begin exploring this large and advanced topic further, see: https://scikit-learn.org/stable/modules/decomposition.html"
   ]
  }
 ],
 "metadata": {
  "kernelspec": {
   "display_name": "AI-ML-Bootcamp",
   "language": "python",
   "name": "python3"
  },
  "language_info": {
   "codemirror_mode": {
    "name": "ipython",
    "version": 3
   },
   "file_extension": ".py",
   "mimetype": "text/x-python",
   "name": "python",
   "nbconvert_exporter": "python",
   "pygments_lexer": "ipython3",
   "version": "3.9.18"
  }
 },
 "nbformat": 4,
 "nbformat_minor": 2
}
